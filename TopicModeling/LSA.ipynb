{
  "nbformat": 4,
  "nbformat_minor": 0,
  "metadata": {
    "colab": {
      "provenance": [],
      "collapsed_sections": [],
      "authorship_tag": "ABX9TyMyd6U+PXT4bqx0/ydvX8Tc",
      "include_colab_link": true
    },
    "kernelspec": {
      "name": "python3",
      "display_name": "Python 3"
    },
    "language_info": {
      "name": "python"
    }
  },
  "cells": [
    {
      "cell_type": "markdown",
      "metadata": {
        "id": "view-in-github",
        "colab_type": "text"
      },
      "source": [
        "<a href=\"https://colab.research.google.com/github/as9786/NLP/blob/main/TopicModeling/LSA.ipynb\" target=\"_parent\"><img src=\"https://colab.research.google.com/assets/colab-badge.svg\" alt=\"Open In Colab\"/></a>"
      ]
    },
    {
      "cell_type": "markdown",
      "source": [
        "# LSA Scratch"
      ],
      "metadata": {
        "id": "2aRBFqwFVYsL"
      }
    },
    {
      "cell_type": "code",
      "execution_count": 1,
      "metadata": {
        "id": "LVIETj0LVB5N"
      },
      "outputs": [],
      "source": [
        "import numpy as np"
      ]
    },
    {
      "cell_type": "code",
      "source": [
        "A = np.array([[0,0,0,1,0,1,1,0,0],[0,0,0,1,1,0,1,0,0],[0,1,1,0,2,0,0,0,0],[1,0,0,0,0,0,0,1,1]])"
      ],
      "metadata": {
        "id": "kv8XWAqzVlAk"
      },
      "execution_count": 2,
      "outputs": []
    },
    {
      "cell_type": "code",
      "source": [
        "print('Shape of DTM : ',np.shape(A))"
      ],
      "metadata": {
        "colab": {
          "base_uri": "https://localhost:8080/"
        },
        "id": "7HbeFj-BVqmE",
        "outputId": "0bc9bb20-8d79-476c-82d4-d6105ce6918a"
      },
      "execution_count": 3,
      "outputs": [
        {
          "output_type": "stream",
          "name": "stdout",
          "text": [
            "Shape of DTM :  (4, 9)\n"
          ]
        }
      ]
    },
    {
      "cell_type": "markdown",
      "source": [
        "4개의 문서와 9개의 단어"
      ],
      "metadata": {
        "id": "geYTa4vxVv2G"
      }
    },
    {
      "cell_type": "code",
      "source": [
        "# 특이값 분해\n",
        "U,s,VT = np.linalg.svd(A,full_matrices=True)"
      ],
      "metadata": {
        "id": "r1_KP2U9Vt2t"
      },
      "execution_count": 39,
      "outputs": []
    },
    {
      "cell_type": "code",
      "source": [
        "U"
      ],
      "metadata": {
        "colab": {
          "base_uri": "https://localhost:8080/"
        },
        "id": "phqOqR3YYD0q",
        "outputId": "f40ce700-8176-463d-94dd-1c94e0d41b01"
      },
      "execution_count": 40,
      "outputs": [
        {
          "output_type": "execute_result",
          "data": {
            "text/plain": [
              "array([[-2.39751712e-01,  7.51083898e-01,  9.05932925e-17,\n",
              "        -6.15135834e-01],\n",
              "       [-5.06077194e-01,  4.44029376e-01, -1.35889939e-16,\n",
              "         7.39407727e-01],\n",
              "       [-8.28495619e-01, -4.88580485e-01, -3.00875605e-17,\n",
              "        -2.73649629e-01],\n",
              "       [-7.19783140e-17, -2.24042335e-17,  1.00000000e+00,\n",
              "         1.47971801e-16]])"
            ]
          },
          "metadata": {},
          "execution_count": 40
        }
      ]
    },
    {
      "cell_type": "code",
      "source": [
        "U.shape"
      ],
      "metadata": {
        "colab": {
          "base_uri": "https://localhost:8080/"
        },
        "id": "E8yLVq-SYKQP",
        "outputId": "5bc412e1-7bf2-452d-9198-eecde3ddea0e"
      },
      "execution_count": 41,
      "outputs": [
        {
          "output_type": "execute_result",
          "data": {
            "text/plain": [
              "(4, 4)"
            ]
          },
          "metadata": {},
          "execution_count": 41
        }
      ]
    },
    {
      "cell_type": "code",
      "source": [
        "VT"
      ],
      "metadata": {
        "colab": {
          "base_uri": "https://localhost:8080/"
        },
        "id": "lvndBET9YLxY",
        "outputId": "bf6fe622-16f6-498c-a94c-b7e788786675"
      },
      "execution_count": 42,
      "outputs": [
        {
          "output_type": "execute_result",
          "data": {
            "text/plain": [
              "array([[-9.05730252e-17, -3.08298331e-01, -3.08298331e-01,\n",
              "        -2.77536539e-01, -8.04917216e-01, -8.92159849e-02,\n",
              "        -2.77536539e-01, -4.41881458e-17, -4.41881458e-17],\n",
              "       [ 3.38857308e-17, -2.38904821e-01, -2.38904821e-01,\n",
              "         5.84383395e-01, -2.60689306e-01,  3.67263060e-01,\n",
              "         5.84383395e-01, -3.42420311e-17, -3.42420311e-17],\n",
              "       [ 5.77350269e-01, -5.50814942e-17,  5.81928632e-17,\n",
              "         1.38606015e-16, -1.41746067e-16,  1.66877179e-16,\n",
              "        -8.34385896e-17,  5.77350269e-01,  5.77350269e-01],\n",
              "       [ 2.32493354e-16, -3.54477649e-01, -3.54477649e-01,\n",
              "         1.60978141e-01,  2.48851639e-01, -7.96828796e-01,\n",
              "         1.60978141e-01, -5.08069894e-17, -5.08069894e-17],\n",
              "       [-9.71445147e-17, -7.79217669e-01, -1.33887309e-02,\n",
              "        -1.98151600e-01,  3.96303200e-01,  3.96303200e-01,\n",
              "        -1.98151600e-01,  4.26271409e-17,  4.26271409e-17],\n",
              "       [-2.88675135e-01,  3.11555335e-01, -7.80527867e-01,\n",
              "        -2.42243133e-01,  2.34486266e-01,  2.34486266e-01,\n",
              "         7.75686693e-03,  1.44337567e-01,  1.44337567e-01],\n",
              "       [-2.88675135e-01, -1.03851778e-01,  2.60175956e-01,\n",
              "        -5.85918956e-01, -7.81620887e-02, -7.81620887e-02,\n",
              "         6.64081044e-01,  1.44337567e-01,  1.44337567e-01],\n",
              "       [-5.00000000e-01, -5.99588521e-02,  1.50212658e-01,\n",
              "         2.39069802e-01, -4.51269030e-02, -4.51269030e-02,\n",
              "        -1.93942899e-01,  7.50000000e-01, -2.50000000e-01],\n",
              "       [-5.00000000e-01, -5.99588521e-02,  1.50212658e-01,\n",
              "         2.39069802e-01, -4.51269030e-02, -4.51269030e-02,\n",
              "        -1.93942899e-01, -2.50000000e-01,  7.50000000e-01]])"
            ]
          },
          "metadata": {},
          "execution_count": 42
        }
      ]
    },
    {
      "cell_type": "code",
      "source": [
        "VT.shape"
      ],
      "metadata": {
        "colab": {
          "base_uri": "https://localhost:8080/"
        },
        "id": "YJL-7gaVYOKm",
        "outputId": "f7f9781b-c188-4821-8d9b-da4e83e78db3"
      },
      "execution_count": 43,
      "outputs": [
        {
          "output_type": "execute_result",
          "data": {
            "text/plain": [
              "(9, 9)"
            ]
          },
          "metadata": {},
          "execution_count": 43
        }
      ]
    },
    {
      "cell_type": "code",
      "source": [
        "s"
      ],
      "metadata": {
        "colab": {
          "base_uri": "https://localhost:8080/"
        },
        "id": "NTEXKG6ZYPrf",
        "outputId": "eb1e0414-4cbc-4c04-a57d-543966562e5e"
      },
      "execution_count": 14,
      "outputs": [
        {
          "output_type": "execute_result",
          "data": {
            "text/plain": [
              "array([2.68731789, 2.04508425, 1.73205081, 0.77197992])"
            ]
          },
          "metadata": {},
          "execution_count": 14
        }
      ]
    },
    {
      "cell_type": "code",
      "source": [
        "S = np.zeros([4,9]) \n",
        "S[:4,:4] = np.diag(s)\n",
        "S"
      ],
      "metadata": {
        "colab": {
          "base_uri": "https://localhost:8080/"
        },
        "id": "5Tumq8tjYREk",
        "outputId": "f669a87d-dd53-43a5-b13e-02e42271d72d"
      },
      "execution_count": 16,
      "outputs": [
        {
          "output_type": "execute_result",
          "data": {
            "text/plain": [
              "array([[2.68731789, 0.        , 0.        , 0.        , 0.        ,\n",
              "        0.        , 0.        , 0.        , 0.        ],\n",
              "       [0.        , 2.04508425, 0.        , 0.        , 0.        ,\n",
              "        0.        , 0.        , 0.        , 0.        ],\n",
              "       [0.        , 0.        , 1.73205081, 0.        , 0.        ,\n",
              "        0.        , 0.        , 0.        , 0.        ],\n",
              "       [0.        , 0.        , 0.        , 0.77197992, 0.        ,\n",
              "        0.        , 0.        , 0.        , 0.        ]])"
            ]
          },
          "metadata": {},
          "execution_count": 16
        }
      ]
    },
    {
      "cell_type": "code",
      "source": [
        "S.shape"
      ],
      "metadata": {
        "colab": {
          "base_uri": "https://localhost:8080/"
        },
        "id": "a0mRD2w6YRsg",
        "outputId": "727d4788-573c-4ef5-9649-d81152b49336"
      },
      "execution_count": 17,
      "outputs": [
        {
          "output_type": "execute_result",
          "data": {
            "text/plain": [
              "(4, 9)"
            ]
          },
          "metadata": {},
          "execution_count": 17
        }
      ]
    },
    {
      "cell_type": "markdown",
      "source": [
        "## 절단된 SVD"
      ],
      "metadata": {
        "id": "3RRnnOjlYiIv"
      }
    },
    {
      "cell_type": "code",
      "source": [
        "S = S[:2,:2]"
      ],
      "metadata": {
        "id": "jnu5pitcYdwr"
      },
      "execution_count": 18,
      "outputs": []
    },
    {
      "cell_type": "code",
      "source": [
        "S"
      ],
      "metadata": {
        "colab": {
          "base_uri": "https://localhost:8080/"
        },
        "id": "Ly6YKzKxYkav",
        "outputId": "39ec60fc-e037-46f1-9724-c39d51739ecf"
      },
      "execution_count": 19,
      "outputs": [
        {
          "output_type": "execute_result",
          "data": {
            "text/plain": [
              "array([[2.68731789, 0.        ],\n",
              "       [0.        , 2.04508425]])"
            ]
          },
          "metadata": {},
          "execution_count": 19
        }
      ]
    },
    {
      "cell_type": "code",
      "source": [
        "U = U[:,:2]\n",
        "U"
      ],
      "metadata": {
        "colab": {
          "base_uri": "https://localhost:8080/"
        },
        "id": "THkMzrfJYlCy",
        "outputId": "96c86b2f-a882-4500-df8f-fcfb026d85e0"
      },
      "execution_count": 20,
      "outputs": [
        {
          "output_type": "execute_result",
          "data": {
            "text/plain": [
              "array([[-2.39751712e-01,  7.51083898e-01],\n",
              "       [-5.06077194e-01,  4.44029376e-01],\n",
              "       [-8.28495619e-01, -4.88580485e-01],\n",
              "       [-7.19783140e-17, -2.24042335e-17]])"
            ]
          },
          "metadata": {},
          "execution_count": 20
        }
      ]
    },
    {
      "cell_type": "code",
      "source": [
        "U.shape"
      ],
      "metadata": {
        "colab": {
          "base_uri": "https://localhost:8080/"
        },
        "id": "31cw_oIGYpjh",
        "outputId": "1845bb7a-56ff-4021-a4e4-fbb151097a26"
      },
      "execution_count": 21,
      "outputs": [
        {
          "output_type": "execute_result",
          "data": {
            "text/plain": [
              "(4, 2)"
            ]
          },
          "metadata": {},
          "execution_count": 21
        }
      ]
    },
    {
      "cell_type": "code",
      "source": [
        "VT = VT[:2,:]\n",
        "VT"
      ],
      "metadata": {
        "colab": {
          "base_uri": "https://localhost:8080/"
        },
        "id": "r4vAerPJYqgz",
        "outputId": "6dbe2676-5d9e-4442-e9ad-e81970f1bbb1"
      },
      "execution_count": 61,
      "outputs": [
        {
          "output_type": "execute_result",
          "data": {
            "text/plain": [
              "array([[-9.05730252e-17, -3.08298331e-01, -3.08298331e-01,\n",
              "        -2.77536539e-01, -8.04917216e-01, -8.92159849e-02,\n",
              "        -2.77536539e-01, -4.41881458e-17, -4.41881458e-17],\n",
              "       [ 3.38857308e-17, -2.38904821e-01, -2.38904821e-01,\n",
              "         5.84383395e-01, -2.60689306e-01,  3.67263060e-01,\n",
              "         5.84383395e-01, -3.42420311e-17, -3.42420311e-17]])"
            ]
          },
          "metadata": {},
          "execution_count": 61
        }
      ]
    },
    {
      "cell_type": "code",
      "source": [
        "VT.shape"
      ],
      "metadata": {
        "colab": {
          "base_uri": "https://localhost:8080/"
        },
        "id": "qyVZX1QuYuBB",
        "outputId": "895b4911-1701-4f08-cf7a-672a73cc3240"
      },
      "execution_count": 24,
      "outputs": [
        {
          "output_type": "execute_result",
          "data": {
            "text/plain": [
              "(2, 9)"
            ]
          },
          "metadata": {},
          "execution_count": 24
        }
      ]
    },
    {
      "cell_type": "code",
      "source": [
        "A_truncated = np.dot(np.dot(U,S),VT) \n",
        "A_truncated"
      ],
      "metadata": {
        "colab": {
          "base_uri": "https://localhost:8080/"
        },
        "id": "c0s2iR2GYwaw",
        "outputId": "f82fed3e-a344-4cc3-b424-04005610ec15"
      },
      "execution_count": 26,
      "outputs": [
        {
          "output_type": "execute_result",
          "data": {
            "text/plain": [
              "array([[ 1.10404704e-16, -1.68331693e-01, -1.68331693e-01,\n",
              "         1.07644409e+00,  1.18172804e-01,  6.21607906e-01,\n",
              "         1.07644409e+00, -2.41268428e-17, -2.41268428e-17],\n",
              "       [ 1.53949304e-16,  2.02338650e-01,  2.02338650e-01,\n",
              "         9.08112402e-01,  8.57953513e-01,  4.54836189e-01,\n",
              "         9.08112402e-01,  2.90010320e-17,  2.90010320e-17],\n",
              "       [ 1.67796375e-16,  9.25115881e-01,  9.25115881e-01,\n",
              "         3.40069574e-02,  2.05257041e+00, -1.68331693e-01,\n",
              "         3.40069574e-02,  1.32596097e-16,  1.32596097e-16],\n",
              "       [ 1.59668195e-32,  7.05799891e-17,  7.05799891e-17,\n",
              "         2.69079104e-17,  1.67638423e-16,  4.29464993e-19,\n",
              "         2.69079104e-17,  1.01161717e-32,  1.01161717e-32]])"
            ]
          },
          "metadata": {},
          "execution_count": 26
        }
      ]
    },
    {
      "cell_type": "code",
      "source": [
        "A_truncated.shape"
      ],
      "metadata": {
        "colab": {
          "base_uri": "https://localhost:8080/"
        },
        "id": "-DzwQeZNY5vo",
        "outputId": "94c1278d-d7b6-4c87-fdce-5364909ab65b"
      },
      "execution_count": 27,
      "outputs": [
        {
          "output_type": "execute_result",
          "data": {
            "text/plain": [
              "(4, 9)"
            ]
          },
          "metadata": {},
          "execution_count": 27
        }
      ]
    },
    {
      "cell_type": "markdown",
      "source": [
        "U : 각 행은 잠재 의미를 표현학 위한 수치화된 각각의 문서 vector\n",
        "\n",
        "VT : 각 열은 잠재 의미를 표현하기 위한 수치화된 각각의 단어 vector"
      ],
      "metadata": {
        "id": "DCTmZ2viZITL"
      }
    },
    {
      "cell_type": "code",
      "source": [
        "print(A.round(2))\n",
        "print(A_truncated.round(2))"
      ],
      "metadata": {
        "colab": {
          "base_uri": "https://localhost:8080/"
        },
        "id": "Vw5FOYRIY8lB",
        "outputId": "ff8c3a1d-72a7-4203-cc1d-12d102f79a7f"
      },
      "execution_count": 29,
      "outputs": [
        {
          "output_type": "stream",
          "name": "stdout",
          "text": [
            "[[0 0 0 1 0 1 1 0 0]\n",
            " [0 0 0 1 1 0 1 0 0]\n",
            " [0 1 1 0 2 0 0 0 0]\n",
            " [1 0 0 0 0 0 0 1 1]]\n",
            "[[ 0.   -0.17 -0.17  1.08  0.12  0.62  1.08 -0.   -0.  ]\n",
            " [ 0.    0.2   0.2   0.91  0.86  0.45  0.91  0.    0.  ]\n",
            " [ 0.    0.93  0.93  0.03  2.05 -0.17  0.03  0.    0.  ]\n",
            " [ 0.    0.    0.    0.    0.    0.    0.    0.    0.  ]]\n"
          ]
        }
      ]
    },
    {
      "cell_type": "code",
      "source": [
        "np.dot(A[0],VT[0])"
      ],
      "metadata": {
        "colab": {
          "base_uri": "https://localhost:8080/"
        },
        "id": "Z8ITyEXLZZ19",
        "outputId": "1cb4bf6a-194d-4824-9710-dcc5bd813629"
      },
      "execution_count": 49,
      "outputs": [
        {
          "output_type": "execute_result",
          "data": {
            "text/plain": [
              "-0.6442890634895055"
            ]
          },
          "metadata": {},
          "execution_count": 49
        }
      ]
    },
    {
      "cell_type": "code",
      "source": [
        "np.dot(A[0],VT[1])"
      ],
      "metadata": {
        "colab": {
          "base_uri": "https://localhost:8080/"
        },
        "id": "szIgh9N1Zi8R",
        "outputId": "6cb3277a-0f31-46af-a6f9-81a3d8673c8d"
      },
      "execution_count": 50,
      "outputs": [
        {
          "output_type": "execute_result",
          "data": {
            "text/plain": [
              "1.536029849211312"
            ]
          },
          "metadata": {},
          "execution_count": 50
        }
      ]
    },
    {
      "cell_type": "markdown",
      "source": [
        "# LSA by Scikit "
      ],
      "metadata": {
        "id": "gzmHtjEYcrUF"
      }
    },
    {
      "cell_type": "code",
      "source": [
        "from sklearn.decomposition import TruncatedSVD"
      ],
      "metadata": {
        "id": "nlEsljd8cZey"
      },
      "execution_count": 51,
      "outputs": []
    },
    {
      "cell_type": "code",
      "source": [
        "svd_model = TruncatedSVD(n_components=2,n_iter=100)\n",
        "svd_model.fit(A)\n",
        "len(svd_model.components_)"
      ],
      "metadata": {
        "colab": {
          "base_uri": "https://localhost:8080/"
        },
        "id": "9DYC0tonc3G3",
        "outputId": "94e89ae4-fccc-426f-c61b-3ca6a63a5d28"
      },
      "execution_count": 57,
      "outputs": [
        {
          "output_type": "execute_result",
          "data": {
            "text/plain": [
              "2"
            ]
          },
          "metadata": {},
          "execution_count": 57
        }
      ]
    },
    {
      "cell_type": "code",
      "source": [
        "svd_model.components_.round(2)"
      ],
      "metadata": {
        "colab": {
          "base_uri": "https://localhost:8080/"
        },
        "id": "yLcAHOnUdI6I",
        "outputId": "9e37dc1f-0a0e-4bca-8a1c-ca0982fc1408"
      },
      "execution_count": 62,
      "outputs": [
        {
          "output_type": "execute_result",
          "data": {
            "text/plain": [
              "array([[-0.  ,  0.31,  0.31,  0.28,  0.8 ,  0.09,  0.28, -0.  , -0.  ],\n",
              "       [ 0.  , -0.24, -0.24,  0.58, -0.26,  0.37,  0.58,  0.  ,  0.  ]])"
            ]
          },
          "metadata": {},
          "execution_count": 62
        }
      ]
    },
    {
      "cell_type": "code",
      "source": [
        "VT.round(2)"
      ],
      "metadata": {
        "colab": {
          "base_uri": "https://localhost:8080/"
        },
        "id": "XEhSZ-r2dScT",
        "outputId": "abb0e646-a740-461d-ec3b-24332dbf5d38"
      },
      "execution_count": 63,
      "outputs": [
        {
          "output_type": "execute_result",
          "data": {
            "text/plain": [
              "array([[-0.  , -0.31, -0.31, -0.28, -0.8 , -0.09, -0.28, -0.  , -0.  ],\n",
              "       [ 0.  , -0.24, -0.24,  0.58, -0.26,  0.37,  0.58, -0.  , -0.  ]])"
            ]
          },
          "metadata": {},
          "execution_count": 63
        }
      ]
    },
    {
      "cell_type": "markdown",
      "source": [
        "# 실제 data"
      ],
      "metadata": {
        "id": "ld7RSd0Xd7aN"
      }
    },
    {
      "cell_type": "markdown",
      "source": [
        "## Data loading"
      ],
      "metadata": {
        "id": "STCG0PBteEUs"
      }
    },
    {
      "cell_type": "code",
      "source": [
        "import pandas as pd\n",
        "from sklearn.datasets import fetch_20newsgroups\n",
        "import nltk\n",
        "from nltk.corpus import stopwords\n",
        "from sklearn.feature_extraction.text import TfidfVectorizer\n",
        "from sklearn.decomposition import TruncatedSVD"
      ],
      "metadata": {
        "id": "bDAmqIvJdnAF"
      },
      "execution_count": 64,
      "outputs": []
    },
    {
      "cell_type": "code",
      "source": [
        "dataset = fetch_20newsgroups(shuffle=True, random_state=1, remove=('headers', 'footers', 'quotes'))\n",
        "documents = dataset.data\n",
        "print('샘플의 수 :',len(documents))"
      ],
      "metadata": {
        "colab": {
          "base_uri": "https://localhost:8080/"
        },
        "id": "qzor8iFBd-Yw",
        "outputId": "24c7db02-14e0-4375-943c-2952820f19c4"
      },
      "execution_count": 65,
      "outputs": [
        {
          "output_type": "stream",
          "name": "stdout",
          "text": [
            "샘플의 수 : 11314\n"
          ]
        }
      ]
    },
    {
      "cell_type": "code",
      "source": [
        "print(dataset.target_names)"
      ],
      "metadata": {
        "colab": {
          "base_uri": "https://localhost:8080/"
        },
        "id": "fOUHCWGmd_ln",
        "outputId": "6597fcd6-e8e0-49ae-d0d2-5cccb4c17e1c"
      },
      "execution_count": 66,
      "outputs": [
        {
          "output_type": "stream",
          "name": "stdout",
          "text": [
            "['alt.atheism', 'comp.graphics', 'comp.os.ms-windows.misc', 'comp.sys.ibm.pc.hardware', 'comp.sys.mac.hardware', 'comp.windows.x', 'misc.forsale', 'rec.autos', 'rec.motorcycles', 'rec.sport.baseball', 'rec.sport.hockey', 'sci.crypt', 'sci.electronics', 'sci.med', 'sci.space', 'soc.religion.christian', 'talk.politics.guns', 'talk.politics.mideast', 'talk.politics.misc', 'talk.religion.misc']\n"
          ]
        }
      ]
    },
    {
      "cell_type": "markdown",
      "source": [
        "## 전처리"
      ],
      "metadata": {
        "id": "FSYo8wBWeHZ_"
      }
    },
    {
      "cell_type": "code",
      "source": [
        "news_df = pd.DataFrame({'document':documents})\n",
        "# 특수 문자 제거\n",
        "news_df['clean_doc'] = news_df['document'].str.replace(\"[^a-zA-Z]\", \" \")\n",
        "# 길이가 3이하인 단어는 제거 (길이가 짧은 단어 제거)\n",
        "news_df['clean_doc'] = news_df['clean_doc'].apply(lambda x: ' '.join([w for w in x.split() if len(w)>3]))\n",
        "# 전체 단어에 대한 소문자 변환\n",
        "news_df['clean_doc'] = news_df['clean_doc'].apply(lambda x: x.lower())"
      ],
      "metadata": {
        "colab": {
          "base_uri": "https://localhost:8080/"
        },
        "id": "FoqNcBl-eD42",
        "outputId": "2cb7d264-aeab-410b-9089-7496121164b3"
      },
      "execution_count": 67,
      "outputs": [
        {
          "output_type": "stream",
          "name": "stderr",
          "text": [
            "/usr/local/lib/python3.7/dist-packages/ipykernel_launcher.py:3: FutureWarning: The default value of regex will change from True to False in a future version.\n",
            "  This is separate from the ipykernel package so we can avoid doing imports until\n"
          ]
        }
      ]
    },
    {
      "cell_type": "code",
      "source": [
        "import nltk\n",
        "nltk.download('stopwords')"
      ],
      "metadata": {
        "colab": {
          "base_uri": "https://localhost:8080/"
        },
        "id": "1KZwoVjRePpK",
        "outputId": "b2acb119-377f-4ef9-e874-9c226395a07d"
      },
      "execution_count": 69,
      "outputs": [
        {
          "output_type": "stream",
          "name": "stderr",
          "text": [
            "[nltk_data] Downloading package stopwords to /root/nltk_data...\n",
            "[nltk_data]   Unzipping corpora/stopwords.zip.\n"
          ]
        },
        {
          "output_type": "execute_result",
          "data": {
            "text/plain": [
              "True"
            ]
          },
          "metadata": {},
          "execution_count": 69
        }
      ]
    },
    {
      "cell_type": "code",
      "source": [
        "# NLTK로부터 불용어를 받아온다.\n",
        "stop_words = stopwords.words('english')\n",
        "tokenized_doc = news_df['clean_doc'].apply(lambda x: x.split()) # 토큰화\n",
        "tokenized_doc = tokenized_doc.apply(lambda x: [item for item in x if item not in stop_words])"
      ],
      "metadata": {
        "id": "JeXHkkb2eLHS"
      },
      "execution_count": 70,
      "outputs": []
    },
    {
      "cell_type": "markdown",
      "source": [
        "## TF-IDF"
      ],
      "metadata": {
        "id": "6nsXAQ66eSGt"
      }
    },
    {
      "cell_type": "code",
      "source": [
        "# 역토큰화 (토큰화 작업을 역으로 되돌림)\n",
        "detokenized_doc = []\n",
        "for i in range(len(news_df)):\n",
        "    t = ' '.join(tokenized_doc[i])\n",
        "    detokenized_doc.append(t)\n",
        "\n",
        "news_df['clean_doc'] = detokenized_doc"
      ],
      "metadata": {
        "id": "p9XG3KgFeNhu"
      },
      "execution_count": 71,
      "outputs": []
    },
    {
      "cell_type": "code",
      "source": [
        "vectorizer = TfidfVectorizer(stop_words='english', max_features= 1000, # 상위 1,000개의 단어를 보존 \n",
        "max_df = 0.5, smooth_idf=True)\n",
        "\n",
        "X = vectorizer.fit_transform(news_df['clean_doc'])\n",
        "\n",
        "# TF-IDF 행렬의 크기 확인\n",
        "print('TF-IDF 행렬의 크기 :',X.shape)"
      ],
      "metadata": {
        "colab": {
          "base_uri": "https://localhost:8080/"
        },
        "id": "yH1zyObGeUHQ",
        "outputId": "05421010-e51e-484e-bcfe-6b0474c3422d"
      },
      "execution_count": 72,
      "outputs": [
        {
          "output_type": "stream",
          "name": "stdout",
          "text": [
            "TF-IDF 행렬의 크기 : (11314, 1000)\n"
          ]
        }
      ]
    },
    {
      "cell_type": "markdown",
      "source": [
        "## Topic Modeling"
      ],
      "metadata": {
        "id": "g-Q-VI6geZB6"
      }
    },
    {
      "cell_type": "code",
      "source": [
        "svd_model = TruncatedSVD(n_components=20, algorithm='randomized', n_iter=100, random_state=122)\n",
        "svd_model.fit(X)\n",
        "len(svd_model.components_)"
      ],
      "metadata": {
        "colab": {
          "base_uri": "https://localhost:8080/"
        },
        "id": "akNnPufSeXbA",
        "outputId": "528374c2-0d70-4a86-be29-40b03e1facd9"
      },
      "execution_count": 73,
      "outputs": [
        {
          "output_type": "execute_result",
          "data": {
            "text/plain": [
              "20"
            ]
          },
          "metadata": {},
          "execution_count": 73
        }
      ]
    },
    {
      "cell_type": "code",
      "source": [
        "terms = vectorizer.get_feature_names() # 단어 집합. 1,000개의 단어가 저장됨.\n",
        "\n",
        "def get_topics(components, feature_names, n=5):\n",
        "    for idx, topic in enumerate(components):\n",
        "        print(\"Topic %d:\" % (idx+1), [(feature_names[i], topic[i].round(5)) for i in topic.argsort()[:-n - 1:-1]])\n",
        "get_topics(svd_model.components_,terms)"
      ],
      "metadata": {
        "colab": {
          "base_uri": "https://localhost:8080/"
        },
        "id": "Lc8wxy0xebkt",
        "outputId": "d59f59c3-13a1-4d1e-932c-be2951f83204"
      },
      "execution_count": 74,
      "outputs": [
        {
          "output_type": "stream",
          "name": "stdout",
          "text": [
            "Topic 1: [('like', 0.21386), ('know', 0.20046), ('people', 0.19293), ('think', 0.17805), ('good', 0.15128)]\n",
            "Topic 2: [('thanks', 0.32888), ('windows', 0.29088), ('card', 0.18069), ('drive', 0.17455), ('mail', 0.15111)]\n",
            "Topic 3: [('game', 0.37064), ('team', 0.32443), ('year', 0.28154), ('games', 0.2537), ('season', 0.18419)]\n",
            "Topic 4: [('drive', 0.53324), ('scsi', 0.20165), ('hard', 0.15628), ('disk', 0.15578), ('card', 0.13994)]\n",
            "Topic 5: [('windows', 0.40399), ('file', 0.25436), ('window', 0.18044), ('files', 0.16078), ('program', 0.13894)]\n",
            "Topic 6: [('chip', 0.16114), ('government', 0.16009), ('mail', 0.15625), ('space', 0.1507), ('information', 0.13562)]\n",
            "Topic 7: [('like', 0.67086), ('bike', 0.14236), ('chip', 0.11169), ('know', 0.11139), ('sounds', 0.10371)]\n",
            "Topic 8: [('card', 0.46633), ('video', 0.22137), ('sale', 0.21266), ('monitor', 0.15463), ('offer', 0.14643)]\n",
            "Topic 9: [('know', 0.46047), ('card', 0.33605), ('chip', 0.17558), ('government', 0.1522), ('video', 0.14356)]\n",
            "Topic 10: [('good', 0.42756), ('know', 0.23039), ('time', 0.1882), ('bike', 0.11406), ('jesus', 0.09027)]\n",
            "Topic 11: [('think', 0.78469), ('chip', 0.10899), ('good', 0.10635), ('thanks', 0.09123), ('clipper', 0.07946)]\n",
            "Topic 12: [('thanks', 0.36824), ('good', 0.22729), ('right', 0.21559), ('bike', 0.21037), ('problem', 0.20894)]\n",
            "Topic 13: [('good', 0.36212), ('people', 0.33985), ('windows', 0.28385), ('know', 0.26232), ('file', 0.18422)]\n",
            "Topic 14: [('space', 0.39946), ('think', 0.23258), ('know', 0.18074), ('nasa', 0.15174), ('problem', 0.12957)]\n",
            "Topic 15: [('space', 0.31613), ('good', 0.3094), ('card', 0.22603), ('people', 0.17476), ('time', 0.14496)]\n",
            "Topic 16: [('people', 0.48156), ('problem', 0.19961), ('window', 0.15281), ('time', 0.14664), ('game', 0.12871)]\n",
            "Topic 17: [('time', 0.34465), ('bike', 0.27303), ('right', 0.25557), ('windows', 0.1997), ('file', 0.19118)]\n",
            "Topic 18: [('time', 0.5973), ('problem', 0.15504), ('file', 0.14956), ('think', 0.12847), ('israel', 0.10903)]\n",
            "Topic 19: [('file', 0.44163), ('need', 0.26633), ('card', 0.18388), ('files', 0.17453), ('right', 0.15448)]\n",
            "Topic 20: [('problem', 0.33006), ('file', 0.27651), ('thanks', 0.23578), ('used', 0.19206), ('space', 0.13185)]\n"
          ]
        },
        {
          "output_type": "stream",
          "name": "stderr",
          "text": [
            "/usr/local/lib/python3.7/dist-packages/sklearn/utils/deprecation.py:87: FutureWarning: Function get_feature_names is deprecated; get_feature_names is deprecated in 1.0 and will be removed in 1.2. Please use get_feature_names_out instead.\n",
            "  warnings.warn(msg, category=FutureWarning)\n"
          ]
        }
      ]
    },
    {
      "cell_type": "code",
      "source": [],
      "metadata": {
        "id": "NUTOd-MsedKM"
      },
      "execution_count": null,
      "outputs": []
    }
  ]
}