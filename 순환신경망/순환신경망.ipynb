{
  "nbformat": 4,
  "nbformat_minor": 0,
  "metadata": {
    "colab": {
      "provenance": [],
      "authorship_tag": "ABX9TyP+GXebfk7hcrzHoyxoxA7i",
      "include_colab_link": true
    },
    "kernelspec": {
      "name": "python3",
      "display_name": "Python 3"
    },
    "language_info": {
      "name": "python"
    },
    "accelerator": "GPU",
    "gpuClass": "standard"
  },
  "cells": [
    {
      "cell_type": "markdown",
      "metadata": {
        "id": "view-in-github",
        "colab_type": "text"
      },
      "source": [
        "<a href=\"https://colab.research.google.com/github/as9786/NLP/blob/main/%EC%88%9C%ED%99%98%EC%8B%A0%EA%B2%BD%EB%A7%9D/%EC%88%9C%ED%99%98%EC%8B%A0%EA%B2%BD%EB%A7%9D.ipynb\" target=\"_parent\"><img src=\"https://colab.research.google.com/assets/colab-badge.svg\" alt=\"Open In Colab\"/></a>"
      ]
    },
    {
      "cell_type": "markdown",
      "source": [
        "# 순환신경망 구현 및 학습"
      ],
      "metadata": {
        "id": "9qKRr73wn4Ls"
      }
    },
    {
      "cell_type": "code",
      "execution_count": 1,
      "metadata": {
        "id": "e_OWuCqinQi0"
      },
      "outputs": [],
      "source": [
        "import tensorflow as tf"
      ]
    },
    {
      "cell_type": "markdown",
      "source": [
        "# 초매개변수"
      ],
      "metadata": {
        "id": "hrPiE-MUn67n"
      }
    },
    {
      "cell_type": "code",
      "source": [
        "EPOCHS = 10\n",
        "NUM_WORDS = 10000"
      ],
      "metadata": {
        "id": "QmYMcW7Vn6hg"
      },
      "execution_count": 2,
      "outputs": []
    },
    {
      "cell_type": "markdown",
      "source": [
        "# 모형 정의"
      ],
      "metadata": {
        "id": "Dv3BbfGfn-Y_"
      }
    },
    {
      "cell_type": "code",
      "source": [
        "class MyModel(tf.keras.Model):\n",
        "\n",
        "  def __init__(self):\n",
        "    super(MyModel,self).__init__()\n",
        "    self.emb = tf.keras.layers.Embedding(NUM_WORDS,16)\n",
        "    self.rnn = tf.keras.layers.SimpleRNN(32) # LSTM, GRU\n",
        "    self.dense = tf.keras.layers.Dense(2,activation='softmax')\n",
        "\n",
        "  def call(self,x,training=None,mask=None):\n",
        "    x = self.emb(x)\n",
        "    x = self.rnn(x)\n",
        "    return self.dense(x)"
      ],
      "metadata": {
        "id": "nhtO2bzmn93x"
      },
      "execution_count": 4,
      "outputs": []
    },
    {
      "cell_type": "markdown",
      "source": [
        "# Training and testing loop"
      ],
      "metadata": {
        "id": "raqD2gLWoz7B"
      }
    },
    {
      "cell_type": "code",
      "source": [
        "@tf.function\n",
        "def train_step(model, inputs, labels, loss_object, optimizer, train_loss, train_accuracy):\n",
        "  with tf.GradientTape() as tape:\n",
        "    predictions = model(inputs,training=True)\n",
        "    loss = loss_object(labels,predictions)\n",
        "\n",
        "  gradients = tape.gradient(loss,model.trainable_variables) \n",
        "\n",
        "  optimizer.apply_gradients(zip(gradients,model.trainable_variables))\n",
        "  train_loss(loss)\n",
        "  train_accuracy(labels,predictions)\n",
        "\n",
        "@tf.function\n",
        "def test_step(model, inputs, labels, loss_object, test_loss, test_accuracy):\n",
        "  predictions = model(inputs,training=False)\n",
        "\n",
        "  t_loss = loss_object(labels,predictions)\n",
        "  test_loss(t_loss) \n",
        "  test_accuracy(labels,predictions)"
      ],
      "metadata": {
        "id": "UDF9bg04oyzS"
      },
      "execution_count": 5,
      "outputs": []
    },
    {
      "cell_type": "markdown",
      "source": [
        "# Dataset"
      ],
      "metadata": {
        "id": "CE5LI7bPpjcn"
      }
    },
    {
      "cell_type": "code",
      "source": [
        "imdb = tf.keras.datasets.imdb\n",
        "\n",
        "(x_train,y_train),(x_test,y_test) = imdb.load_data(num_words = NUM_WORDS)\n",
        "\n",
        "x_train = tf.keras.preprocessing.sequence.pad_sequences(x_train,value=0,padding='pre',maxlen=32) #post\n",
        "x_test = tf.keras.preprocessing.sequence.pad_sequences(x_test,value=0,padding='pre',maxlen=32)\n",
        "\n",
        "train_ds = tf.data.Dataset.from_tensor_slices((x_train,y_train)).shuffle(10000).batch(32)\n",
        "test_ds = tf.data.Dataset.from_tensor_slices((x_test,y_test)).batch(32)"
      ],
      "metadata": {
        "colab": {
          "base_uri": "https://localhost:8080/"
        },
        "id": "GgopVkanpiZg",
        "outputId": "ce809639-005b-4307-8a2a-bc61332fb465"
      },
      "execution_count": 6,
      "outputs": [
        {
          "output_type": "stream",
          "name": "stdout",
          "text": [
            "Downloading data from https://storage.googleapis.com/tensorflow/tf-keras-datasets/imdb.npz\n",
            "17464789/17464789 [==============================] - 0s 0us/step\n"
          ]
        }
      ]
    },
    {
      "cell_type": "markdown",
      "source": [
        "# 학습 환경 정의"
      ],
      "metadata": {
        "id": "LhULHTunrAyZ"
      }
    },
    {
      "cell_type": "code",
      "source": [
        "model = MyModel()"
      ],
      "metadata": {
        "id": "7OWxePEyqktX"
      },
      "execution_count": 7,
      "outputs": []
    },
    {
      "cell_type": "code",
      "source": [
        "loss_object = tf.keras.losses.SparseCategoricalCrossentropy()\n",
        "optimizer = tf.keras.optimizers.Adam()"
      ],
      "metadata": {
        "id": "VnHjUI2trC85"
      },
      "execution_count": 8,
      "outputs": []
    },
    {
      "cell_type": "code",
      "source": [
        "train_loss = tf.keras.metrics.Mean(name='train_loss')\n",
        "train_accuracy = tf.keras.metrics.SparseCategoricalAccuracy(name='train_accuracy')\n",
        "\n",
        "test_loss = tf.keras.metrics.Mean(name='test_loss')\n",
        "test_accuracy = tf.keras.metrics.SparseCategoricalAccuracy(name='test_accuracy')"
      ],
      "metadata": {
        "id": "5D6gG988rKgZ"
      },
      "execution_count": 9,
      "outputs": []
    },
    {
      "cell_type": "markdown",
      "source": [
        "# 학습"
      ],
      "metadata": {
        "id": "Fa67sKZKrXnG"
      }
    },
    {
      "cell_type": "code",
      "source": [
        "for epoch in range(EPOCHS):\n",
        "  for inputs, labels in train_ds:\n",
        "    train_step(model, inputs, labels, loss_object, optimizer, train_loss, train_accuracy)\n",
        "\n",
        "  for test_inputs, test_labels in test_ds:\n",
        "    test_step(model,test_inputs,test_labels,loss_object,test_loss,test_accuracy) \n",
        "  \n",
        "  template = 'Epoch {}, Loss: {}, Accuracy: {}, Test Loss: {}, Test Accuracy: {}'\n",
        "  print(template.format(epoch+1,train_loss.result(),train_accuracy.result()*100,test_loss.result(),\n",
        "                        test_accuracy.result()*100))\n",
        "  \n",
        "  train_loss.reset_states()\n",
        "  train_accuracy.reset_states()\n",
        "  test_loss.reset_states()\n",
        "  test_accuracy.reset_states()"
      ],
      "metadata": {
        "colab": {
          "base_uri": "https://localhost:8080/"
        },
        "id": "sdn-jjsjrXHU",
        "outputId": "18effd56-68dd-45a8-8bbd-209d3e8feb0c"
      },
      "execution_count": 10,
      "outputs": [
        {
          "output_type": "stream",
          "name": "stdout",
          "text": [
            "Epoch 1, Loss: 0.531186580657959, Accuracy: 72.07599639892578, Test Loss: 0.4559605121612549, Test Accuracy: 78.35199737548828\n",
            "Epoch 2, Loss: 0.3640669882297516, Accuracy: 84.23999786376953, Test Loss: 0.4865472912788391, Test Accuracy: 77.9959945678711\n",
            "Epoch 3, Loss: 0.23300392925739288, Accuracy: 90.7760009765625, Test Loss: 0.5921752452850342, Test Accuracy: 76.52000427246094\n",
            "Epoch 4, Loss: 0.10640458017587662, Accuracy: 96.3479995727539, Test Loss: 0.8308428525924683, Test Accuracy: 74.04800415039062\n",
            "Epoch 5, Loss: 0.04441007971763611, Accuracy: 98.62800598144531, Test Loss: 1.0586357116699219, Test Accuracy: 75.05999755859375\n",
            "Epoch 6, Loss: 0.018876325339078903, Accuracy: 99.52399444580078, Test Loss: 1.24251127243042, Test Accuracy: 74.45999908447266\n",
            "Epoch 7, Loss: 0.015722103416919708, Accuracy: 99.47599792480469, Test Loss: 1.2953540086746216, Test Accuracy: 73.5199966430664\n",
            "Epoch 8, Loss: 0.01858416758477688, Accuracy: 99.37200164794922, Test Loss: 1.389238715171814, Test Accuracy: 72.61599731445312\n",
            "Epoch 9, Loss: 0.01922241598367691, Accuracy: 99.3239974975586, Test Loss: 1.4121098518371582, Test Accuracy: 74.15999603271484\n",
            "Epoch 10, Loss: 0.013690096326172352, Accuracy: 99.56800079345703, Test Loss: 1.505518913269043, Test Accuracy: 73.1240005493164\n"
          ]
        }
      ]
    },
    {
      "cell_type": "code",
      "source": [],
      "metadata": {
        "id": "9xc2o5ILsGw-"
      },
      "execution_count": null,
      "outputs": []
    }
  ]
}