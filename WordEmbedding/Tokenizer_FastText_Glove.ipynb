{
  "nbformat": 4,
  "nbformat_minor": 0,
  "metadata": {
    "colab": {
      "provenance": [],
      "authorship_tag": "ABX9TyOfDh1mKhpzqZo6vSciWgmY",
      "include_colab_link": true
    },
    "kernelspec": {
      "name": "python3",
      "display_name": "Python 3"
    },
    "language_info": {
      "name": "python"
    }
  },
  "cells": [
    {
      "cell_type": "markdown",
      "metadata": {
        "id": "view-in-github",
        "colab_type": "text"
      },
      "source": [
        "<a href=\"https://colab.research.google.com/github/as9786/NLP/blob/main/WordEmbedding/Tokenizer_FastText_Glove.ipynb\" target=\"_parent\"><img src=\"https://colab.research.google.com/assets/colab-badge.svg\" alt=\"Open In Colab\"/></a>"
      ]
    },
    {
      "cell_type": "markdown",
      "source": [
        "# Word-based"
      ],
      "metadata": {
        "id": "b3dH2rstL-XW"
      }
    },
    {
      "cell_type": "code",
      "execution_count": null,
      "metadata": {
        "id": "RmhiDrEiL8NY"
      },
      "outputs": [],
      "source": [
        " from tensorflow.keras.preprocessing.text import Tokenizer"
      ]
    },
    {
      "cell_type": "code",
      "source": [
        "sentences = ['I am sad','나는 오늘 술을 마셔',\"I don't have money!\"]"
      ],
      "metadata": {
        "id": "7aABHgsqMJAk"
      },
      "execution_count": null,
      "outputs": []
    },
    {
      "cell_type": "code",
      "source": [
        "tokenizer = Tokenizer(num_words = 100) #num_words : 단어의 개수 제한한"
      ],
      "metadata": {
        "id": "c1Ug4cZSMQ7E"
      },
      "execution_count": null,
      "outputs": []
    },
    {
      "cell_type": "code",
      "source": [
        "# String data -> list type\n",
        "tokenizer.fit_on_texts(sentences) "
      ],
      "metadata": {
        "id": "FACub5XTMTrI"
      },
      "execution_count": null,
      "outputs": []
    },
    {
      "cell_type": "code",
      "source": [
        "# 단어와 숫자의 사전\n",
        "word_index = tokenizer.word_index\n",
        "word_index"
      ],
      "metadata": {
        "colab": {
          "base_uri": "https://localhost:8080/"
        },
        "id": "1M_7R3xhMWRI",
        "outputId": "7a384a3b-67ac-4da5-e66f-9db143e0ccdd"
      },
      "execution_count": null,
      "outputs": [
        {
          "output_type": "execute_result",
          "data": {
            "text/plain": [
              "{'i': 1,\n",
              " 'am': 2,\n",
              " 'sad': 3,\n",
              " '나는': 4,\n",
              " '오늘': 5,\n",
              " '술을': 6,\n",
              " '마셔': 7,\n",
              " \"don't\": 8,\n",
              " 'have': 9,\n",
              " 'money': 10}"
            ]
          },
          "metadata": {},
          "execution_count": 14
        }
      ]
    },
    {
      "cell_type": "markdown",
      "source": [
        "느낌표는 제거 되었음을 확인.\n",
        "\n",
        "구두점은 영향 X"
      ],
      "metadata": {
        "id": "z_PvPVYRMt7s"
      }
    },
    {
      "cell_type": "code",
      "source": [
        "sequences = tokenizer.texts_to_sequences(sentences)\n",
        "sequences"
      ],
      "metadata": {
        "colab": {
          "base_uri": "https://localhost:8080/"
        },
        "id": "1DJs2WWLMY6D",
        "outputId": "37c1bdca-2773-40f0-bdc1-4c478094a3e8"
      },
      "execution_count": null,
      "outputs": [
        {
          "output_type": "execute_result",
          "data": {
            "text/plain": [
              "[[1, 2, 3], [4, 5, 6, 7], [1, 8, 9, 10]]"
            ]
          },
          "metadata": {},
          "execution_count": 15
        }
      ]
    },
    {
      "cell_type": "code",
      "source": [
        "# OOV \n",
        "tokenizer = Tokenizer(num_words = 100,oov_token='<OOV>')"
      ],
      "metadata": {
        "id": "GF9l2947M3Dj"
      },
      "execution_count": null,
      "outputs": []
    },
    {
      "cell_type": "code",
      "source": [
        "# String data -> list type\n",
        "tokenizer.fit_on_texts(sentences) \n",
        "\n",
        "# 단어와 숫자의 사전\n",
        "word_index = tokenizer.word_index\n",
        "word_index"
      ],
      "metadata": {
        "colab": {
          "base_uri": "https://localhost:8080/"
        },
        "id": "bEJ_N703NBTS",
        "outputId": "c8927af2-2741-4c64-8626-d19a20b7098a"
      },
      "execution_count": null,
      "outputs": [
        {
          "output_type": "execute_result",
          "data": {
            "text/plain": [
              "{'<OOV>': 1,\n",
              " 'i': 2,\n",
              " 'am': 3,\n",
              " 'sad': 4,\n",
              " '나는': 5,\n",
              " '오늘': 6,\n",
              " '술을': 7,\n",
              " '마셔': 8,\n",
              " \"don't\": 9,\n",
              " 'have': 10,\n",
              " 'money': 11}"
            ]
          },
          "metadata": {},
          "execution_count": 17
        }
      ]
    },
    {
      "cell_type": "code",
      "source": [
        "test = ['You look sad']\n",
        "test_sequence = tokenizer.texts_to_sequences(test)\n",
        "test_sequence"
      ],
      "metadata": {
        "colab": {
          "base_uri": "https://localhost:8080/"
        },
        "id": "eWlBCzLFNDyn",
        "outputId": "b6724446-00ce-4033-da1e-023df33482a5"
      },
      "execution_count": null,
      "outputs": [
        {
          "output_type": "execute_result",
          "data": {
            "text/plain": [
              "[[1, 1, 4]]"
            ]
          },
          "metadata": {},
          "execution_count": 18
        }
      ]
    },
    {
      "cell_type": "markdown",
      "source": [
        "# BPE"
      ],
      "metadata": {
        "id": "ZJ-AjqHhNTbw"
      }
    },
    {
      "cell_type": "code",
      "source": [
        "from collections import defaultdict"
      ],
      "metadata": {
        "id": "YIbDgfUSOcMx"
      },
      "execution_count": null,
      "outputs": []
    },
    {
      "cell_type": "code",
      "source": [
        "dic = defaultdict(int)\n",
        "dic[1]"
      ],
      "metadata": {
        "colab": {
          "base_uri": "https://localhost:8080/"
        },
        "id": "K2PgNxckOd20",
        "outputId": "fa17de89-36c8-4357-c7c8-00c073ad73fb"
      },
      "execution_count": null,
      "outputs": [
        {
          "output_type": "execute_result",
          "data": {
            "text/plain": [
              "0"
            ]
          },
          "metadata": {},
          "execution_count": 22
        }
      ]
    },
    {
      "cell_type": "code",
      "source": [
        "dic"
      ],
      "metadata": {
        "colab": {
          "base_uri": "https://localhost:8080/"
        },
        "id": "S6p_5GW7OiaF",
        "outputId": "615cd940-285f-41bb-a460-5ce8a7ee1b39"
      },
      "execution_count": null,
      "outputs": [
        {
          "output_type": "execute_result",
          "data": {
            "text/plain": [
              "defaultdict(int, {1: 0})"
            ]
          },
          "metadata": {},
          "execution_count": 23
        }
      ]
    },
    {
      "cell_type": "code",
      "source": [
        "corpus = [\n",
        "    '박규찬을 대우관별관에서 직접 보지 못한 것을 평생 후회할 것 같다. 보는 내내 감탄을 자아냈고 절대 잊지 못할 여운으로 남을 것이다.',\n",
        "    '박규찬이 이해되지 않는다 최소 서울대는 가야한다 실력이 정말 끝내준다',\n",
        "    '박규찬은 말로 표현할 수 없다 완벽한 그를 보는 내내 소름이 돋았다'\n",
        "]"
      ],
      "metadata": {
        "id": "M71V5B8XNM02"
      },
      "execution_count": null,
      "outputs": []
    },
    {
      "cell_type": "markdown",
      "source": [
        "## 어절 단위 분리 및 어절 내 띄어쓰기 처리"
      ],
      "metadata": {
        "id": "qQslUTDxOWdJ"
      }
    },
    {
      "cell_type": "code",
      "source": [
        "def get_dictionary(corpus):\n",
        "  dictionary = defaultdict(int)\n",
        "  for line in corpus:\n",
        "    tokens = line.split(' ')\n",
        "    for token in tokens: \n",
        "      dictionary[' '.join(list(token)) + \" </w>\"] += 1\n",
        "  return dict(dictionary)"
      ],
      "metadata": {
        "id": "77UNuee8OVEk"
      },
      "execution_count": null,
      "outputs": []
    },
    {
      "cell_type": "code",
      "source": [
        "dictionary = get_dictionary(corpus)\n",
        "dictionary"
      ],
      "metadata": {
        "colab": {
          "base_uri": "https://localhost:8080/"
        },
        "id": "X1ez23stPPY4",
        "outputId": "070babd4-d444-452b-cb49-bcf0c0e0e5d9"
      },
      "execution_count": null,
      "outputs": [
        {
          "output_type": "execute_result",
          "data": {
            "text/plain": [
              "{'박 규 찬 을 </w>': 1,\n",
              " '대 우 관 별 관 에 서 </w>': 1,\n",
              " '직 접 </w>': 1,\n",
              " '보 지 </w>': 1,\n",
              " '못 한 </w>': 1,\n",
              " '것 을 </w>': 1,\n",
              " '평 생 </w>': 1,\n",
              " '후 회 할 </w>': 1,\n",
              " '것 </w>': 1,\n",
              " '같 다 . </w>': 1,\n",
              " '보 는 </w>': 2,\n",
              " '내 내 </w>': 2,\n",
              " '감 탄 을 </w>': 1,\n",
              " '자 아 냈 고 </w>': 1,\n",
              " '절 대 </w>': 1,\n",
              " '잊 지 </w>': 1,\n",
              " '못 할 </w>': 1,\n",
              " '여 운 으 로 </w>': 1,\n",
              " '남 을 </w>': 1,\n",
              " '것 이 다 . </w>': 1,\n",
              " '박 규 찬 이 </w>': 1,\n",
              " '이 해 되 지 </w>': 1,\n",
              " '않 는 다 </w>': 1,\n",
              " '최 소 </w>': 1,\n",
              " '서 울 대 는 </w>': 1,\n",
              " '가 야 한 다 </w>': 1,\n",
              " '실 력 이 </w>': 1,\n",
              " '정 말 </w>': 1,\n",
              " '끝 내 준 다 </w>': 1,\n",
              " '박 규 찬 은 </w>': 1,\n",
              " '말 로 </w>': 1,\n",
              " '표 현 할 </w>': 1,\n",
              " '수 </w>': 1,\n",
              " '없 다 </w>': 1,\n",
              " '완 벽 한 </w>': 1,\n",
              " '그 를 </w>': 1,\n",
              " '소 름 이 </w>': 1,\n",
              " '돋 았 다 </w>': 1}"
            ]
          },
          "metadata": {},
          "execution_count": 34
        }
      ]
    },
    {
      "cell_type": "markdown",
      "source": [
        "## 가장 많이 등장한 쌍 찾기"
      ],
      "metadata": {
        "id": "3gKXjV79PXTk"
      }
    },
    {
      "cell_type": "code",
      "source": [
        "def get_pairs(dictionary):\n",
        "\n",
        "  pairs = defaultdict(int) \n",
        "  for word, freq in dictionary.items():\n",
        "    word_list = word.split()\n",
        "    for i in range(len(word_list)-1):\n",
        "      pairs[(word_list[i],word_list[i+1])] += freq\n",
        "  \n",
        "  return dict(pairs)"
      ],
      "metadata": {
        "id": "oPfMJ45mPSFy"
      },
      "execution_count": null,
      "outputs": []
    },
    {
      "cell_type": "code",
      "source": [
        "pairs = get_pairs(dictionary)\n",
        "print(pairs)"
      ],
      "metadata": {
        "colab": {
          "base_uri": "https://localhost:8080/"
        },
        "id": "bFvvs6xGPqPV",
        "outputId": "cacd68e8-073f-431d-b772-b0565eaf3251"
      },
      "execution_count": null,
      "outputs": [
        {
          "output_type": "stream",
          "name": "stdout",
          "text": [
            "{('박', '규'): 3, ('규', '찬'): 3, ('찬', '을'): 1, ('을', '</w>'): 4, ('대', '우'): 1, ('우', '관'): 1, ('관', '별'): 1, ('별', '관'): 1, ('관', '에'): 1, ('에', '서'): 1, ('서', '</w>'): 1, ('직', '접'): 1, ('접', '</w>'): 1, ('보', '지'): 1, ('지', '</w>'): 3, ('못', '한'): 1, ('한', '</w>'): 2, ('것', '을'): 1, ('평', '생'): 1, ('생', '</w>'): 1, ('후', '회'): 1, ('회', '할'): 1, ('할', '</w>'): 3, ('것', '</w>'): 1, ('같', '다'): 1, ('다', '.'): 2, ('.', '</w>'): 2, ('보', '는'): 2, ('는', '</w>'): 3, ('내', '내'): 2, ('내', '</w>'): 2, ('감', '탄'): 1, ('탄', '을'): 1, ('자', '아'): 1, ('아', '냈'): 1, ('냈', '고'): 1, ('고', '</w>'): 1, ('절', '대'): 1, ('대', '</w>'): 1, ('잊', '지'): 1, ('못', '할'): 1, ('여', '운'): 1, ('운', '으'): 1, ('으', '로'): 1, ('로', '</w>'): 2, ('남', '을'): 1, ('것', '이'): 1, ('이', '다'): 1, ('찬', '이'): 1, ('이', '</w>'): 3, ('이', '해'): 1, ('해', '되'): 1, ('되', '지'): 1, ('않', '는'): 1, ('는', '다'): 1, ('다', '</w>'): 5, ('최', '소'): 1, ('소', '</w>'): 1, ('서', '울'): 1, ('울', '대'): 1, ('대', '는'): 1, ('가', '야'): 1, ('야', '한'): 1, ('한', '다'): 1, ('실', '력'): 1, ('력', '이'): 1, ('정', '말'): 1, ('말', '</w>'): 1, ('끝', '내'): 1, ('내', '준'): 1, ('준', '다'): 1, ('찬', '은'): 1, ('은', '</w>'): 1, ('말', '로'): 1, ('표', '현'): 1, ('현', '할'): 1, ('수', '</w>'): 1, ('없', '다'): 1, ('완', '벽'): 1, ('벽', '한'): 1, ('그', '를'): 1, ('를', '</w>'): 1, ('소', '름'): 1, ('름', '이'): 1, ('돋', '았'): 1, ('았', '다'): 1}\n"
          ]
        }
      ]
    },
    {
      "cell_type": "code",
      "source": [
        "print(max(pairs,key=pairs.get))"
      ],
      "metadata": {
        "colab": {
          "base_uri": "https://localhost:8080/"
        },
        "id": "-i3ZRua1PtXE",
        "outputId": "ca96e6f0-b8e7-4ba9-8c59-079fdc8a3cca"
      },
      "execution_count": null,
      "outputs": [
        {
          "output_type": "stream",
          "name": "stdout",
          "text": [
            "('다', '</w>')\n"
          ]
        }
      ]
    },
    {
      "cell_type": "markdown",
      "source": [
        "## Bi-gram merging"
      ],
      "metadata": {
        "id": "GDgICjamQihC"
      }
    },
    {
      "cell_type": "code",
      "source": [
        "def merge_dictionary(paris, dictionary):\n",
        "  result = defaultdict(int)\n",
        "  best_pair = max(pairs,key=pairs.get)\n",
        "  for word, freq in dictionary.items(): \n",
        "    paired = word.replace(' '.join(best_pair), ''.join(best_pair))\n",
        "    result[paired] = dictionary[word]\n",
        "  return dict(result)"
      ],
      "metadata": {
        "id": "lDRh1KGNQQch"
      },
      "execution_count": null,
      "outputs": []
    },
    {
      "cell_type": "code",
      "source": [
        "temp = merge_dictionary(pairs,dictionary)\n",
        "temp"
      ],
      "metadata": {
        "colab": {
          "base_uri": "https://localhost:8080/"
        },
        "id": "mm8jvGKeRA-g",
        "outputId": "c223c7f4-141d-41b1-d07b-7baeb1328a21"
      },
      "execution_count": null,
      "outputs": [
        {
          "output_type": "execute_result",
          "data": {
            "text/plain": [
              "{'박 규 찬 을 </w>': 1,\n",
              " '대 우 관 별 관 에 서 </w>': 1,\n",
              " '직 접 </w>': 1,\n",
              " '보 지 </w>': 1,\n",
              " '못 한 </w>': 1,\n",
              " '것 을 </w>': 1,\n",
              " '평 생 </w>': 1,\n",
              " '후 회 할 </w>': 1,\n",
              " '것 </w>': 1,\n",
              " '같 다 . </w>': 1,\n",
              " '보 는 </w>': 2,\n",
              " '내 내 </w>': 2,\n",
              " '감 탄 을 </w>': 1,\n",
              " '자 아 냈 고 </w>': 1,\n",
              " '절 대 </w>': 1,\n",
              " '잊 지 </w>': 1,\n",
              " '못 할 </w>': 1,\n",
              " '여 운 으 로 </w>': 1,\n",
              " '남 을 </w>': 1,\n",
              " '것 이 다 . </w>': 1,\n",
              " '박 규 찬 이 </w>': 1,\n",
              " '이 해 되 지 </w>': 1,\n",
              " '않 는 다</w>': 1,\n",
              " '최 소 </w>': 1,\n",
              " '서 울 대 는 </w>': 1,\n",
              " '가 야 한 다</w>': 1,\n",
              " '실 력 이 </w>': 1,\n",
              " '정 말 </w>': 1,\n",
              " '끝 내 준 다</w>': 1,\n",
              " '박 규 찬 은 </w>': 1,\n",
              " '말 로 </w>': 1,\n",
              " '표 현 할 </w>': 1,\n",
              " '수 </w>': 1,\n",
              " '없 다</w>': 1,\n",
              " '완 벽 한 </w>': 1,\n",
              " '그 를 </w>': 1,\n",
              " '소 름 이 </w>': 1,\n",
              " '돋 았 다</w>': 1}"
            ]
          },
          "metadata": {},
          "execution_count": 41
        }
      ]
    },
    {
      "cell_type": "markdown",
      "source": [
        "## 학습"
      ],
      "metadata": {
        "id": "zSo2ndpVRK1J"
      }
    },
    {
      "cell_type": "code",
      "source": [
        "iter_nums = 20\n",
        "dictionary = get_dictionary(corpus)\n",
        "for i in range(iter_nums):\n",
        "    pairs = get_pairs(dictionary)\n",
        "    dictionary = merge_dictionary(pairs, dictionary)"
      ],
      "metadata": {
        "id": "DhIlQIFaRDEW"
      },
      "execution_count": null,
      "outputs": []
    },
    {
      "cell_type": "code",
      "source": [
        "dictionary"
      ],
      "metadata": {
        "colab": {
          "base_uri": "https://localhost:8080/"
        },
        "id": "uV-xncfSRLf5",
        "outputId": "5dc88302-b32b-45f3-8746-6f37ad537669"
      },
      "execution_count": null,
      "outputs": [
        {
          "output_type": "execute_result",
          "data": {
            "text/plain": [
              "{'박규찬을</w>': 1,\n",
              " '대우관별관 에 서 </w>': 1,\n",
              " '직 접 </w>': 1,\n",
              " '보 지</w>': 1,\n",
              " '못 한</w>': 1,\n",
              " '것 을</w>': 1,\n",
              " '평 생 </w>': 1,\n",
              " '후 회 할</w>': 1,\n",
              " '것 </w>': 1,\n",
              " '같 다.</w>': 1,\n",
              " '보는</w>': 2,\n",
              " '내내</w>': 2,\n",
              " '감 탄 을</w>': 1,\n",
              " '자 아 냈 고 </w>': 1,\n",
              " '절 대 </w>': 1,\n",
              " '잊 지</w>': 1,\n",
              " '못 할</w>': 1,\n",
              " '여 운 으 로</w>': 1,\n",
              " '남 을</w>': 1,\n",
              " '것 이 다.</w>': 1,\n",
              " '박규찬 이</w>': 1,\n",
              " '이 해 되 지</w>': 1,\n",
              " '않 는 다</w>': 1,\n",
              " '최 소 </w>': 1,\n",
              " '서 울 대 는</w>': 1,\n",
              " '가 야 한 다</w>': 1,\n",
              " '실 력 이</w>': 1,\n",
              " '정 말 </w>': 1,\n",
              " '끝 내 준 다</w>': 1,\n",
              " '박규찬 은 </w>': 1,\n",
              " '말 로</w>': 1,\n",
              " '표 현 할</w>': 1,\n",
              " '수 </w>': 1,\n",
              " '없 다</w>': 1,\n",
              " '완 벽 한</w>': 1,\n",
              " '그 를 </w>': 1,\n",
              " '소 름 이</w>': 1,\n",
              " '돋 았 다</w>': 1}"
            ]
          },
          "metadata": {},
          "execution_count": 43
        }
      ]
    },
    {
      "cell_type": "markdown",
      "source": [
        "## 최종 단어 사전"
      ],
      "metadata": {
        "id": "rIiqhVOQRT1B"
      }
    },
    {
      "cell_type": "code",
      "source": [
        "def get_vocab(dictionary):\n",
        "    result = defaultdict(int)\n",
        "    for word, freq in dictionary.items():\n",
        "        tokens = word.split()\n",
        "        for token in tokens:\n",
        "            result[token] += freq\n",
        "    return dict(result)"
      ],
      "metadata": {
        "id": "hbEdoBXfRNTz"
      },
      "execution_count": null,
      "outputs": []
    },
    {
      "cell_type": "code",
      "source": [
        "vocab = get_vocab(dictionary)\n",
        "vocab"
      ],
      "metadata": {
        "colab": {
          "base_uri": "https://localhost:8080/"
        },
        "id": "75Rh4gMSRWK1",
        "outputId": "dcd8eaa6-55e7-4cc8-fd73-9b4fad880093"
      },
      "execution_count": null,
      "outputs": [
        {
          "output_type": "execute_result",
          "data": {
            "text/plain": [
              "{'박규찬을</w>': 1,\n",
              " '대우관별관': 1,\n",
              " '에': 1,\n",
              " '서': 2,\n",
              " '</w>': 11,\n",
              " '직': 1,\n",
              " '접': 1,\n",
              " '보': 1,\n",
              " '지</w>': 3,\n",
              " '못': 2,\n",
              " '한</w>': 2,\n",
              " '것': 3,\n",
              " '을</w>': 3,\n",
              " '평': 1,\n",
              " '생': 1,\n",
              " '후': 1,\n",
              " '회': 1,\n",
              " '할</w>': 3,\n",
              " '같': 1,\n",
              " '다.</w>': 2,\n",
              " '보는</w>': 2,\n",
              " '내내</w>': 2,\n",
              " '감': 1,\n",
              " '탄': 1,\n",
              " '자': 1,\n",
              " '아': 1,\n",
              " '냈': 1,\n",
              " '고': 1,\n",
              " '절': 1,\n",
              " '대': 2,\n",
              " '잊': 1,\n",
              " '여': 1,\n",
              " '운': 1,\n",
              " '으': 1,\n",
              " '로</w>': 2,\n",
              " '남': 1,\n",
              " '이': 2,\n",
              " '박규찬': 2,\n",
              " '이</w>': 3,\n",
              " '해': 1,\n",
              " '되': 1,\n",
              " '않': 1,\n",
              " '는': 1,\n",
              " '다</w>': 5,\n",
              " '최': 1,\n",
              " '소': 2,\n",
              " '울': 1,\n",
              " '는</w>': 1,\n",
              " '가': 1,\n",
              " '야': 1,\n",
              " '한': 1,\n",
              " '실': 1,\n",
              " '력': 1,\n",
              " '정': 1,\n",
              " '말': 2,\n",
              " '끝': 1,\n",
              " '내': 1,\n",
              " '준': 1,\n",
              " '은': 1,\n",
              " '표': 1,\n",
              " '현': 1,\n",
              " '수': 1,\n",
              " '없': 1,\n",
              " '완': 1,\n",
              " '벽': 1,\n",
              " '그': 1,\n",
              " '를': 1,\n",
              " '름': 1,\n",
              " '돋': 1,\n",
              " '았': 1}"
            ]
          },
          "metadata": {},
          "execution_count": 45
        }
      ]
    },
    {
      "cell_type": "markdown",
      "source": [
        "# WordPiece"
      ],
      "metadata": {
        "id": "BJLTS3rNnMIL"
      }
    },
    {
      "cell_type": "code",
      "source": [
        "!pip install transformers"
      ],
      "metadata": {
        "colab": {
          "base_uri": "https://localhost:8080/"
        },
        "id": "cuwj4QAfnNOl",
        "outputId": "bdfb92c5-a576-4533-dee7-01c82b9fe736"
      },
      "execution_count": null,
      "outputs": [
        {
          "output_type": "stream",
          "name": "stdout",
          "text": [
            "Looking in indexes: https://pypi.org/simple, https://us-python.pkg.dev/colab-wheels/public/simple/\n",
            "Collecting transformers\n",
            "  Downloading transformers-4.27.4-py3-none-any.whl (6.8 MB)\n",
            "\u001b[2K     \u001b[90m━━━━━━━━━━━━━━━━━━━━━━━━━━━━━━━━━━━━━━━━\u001b[0m \u001b[32m6.8/6.8 MB\u001b[0m \u001b[31m54.3 MB/s\u001b[0m eta \u001b[36m0:00:00\u001b[0m\n",
            "\u001b[?25hCollecting huggingface-hub<1.0,>=0.11.0\n",
            "  Downloading huggingface_hub-0.13.4-py3-none-any.whl (200 kB)\n",
            "\u001b[2K     \u001b[90m━━━━━━━━━━━━━━━━━━━━━━━━━━━━━━━━━━━━━━\u001b[0m \u001b[32m200.1/200.1 KB\u001b[0m \u001b[31m29.8 MB/s\u001b[0m eta \u001b[36m0:00:00\u001b[0m\n",
            "\u001b[?25hRequirement already satisfied: packaging>=20.0 in /usr/local/lib/python3.9/dist-packages (from transformers) (23.0)\n",
            "Requirement already satisfied: tqdm>=4.27 in /usr/local/lib/python3.9/dist-packages (from transformers) (4.65.0)\n",
            "Requirement already satisfied: numpy>=1.17 in /usr/local/lib/python3.9/dist-packages (from transformers) (1.22.4)\n",
            "Requirement already satisfied: filelock in /usr/local/lib/python3.9/dist-packages (from transformers) (3.10.7)\n",
            "Requirement already satisfied: tokenizers!=0.11.3,<0.14,>=0.11.1 in /usr/local/lib/python3.9/dist-packages (from transformers) (0.13.3)\n",
            "Requirement already satisfied: pyyaml>=5.1 in /usr/local/lib/python3.9/dist-packages (from transformers) (6.0)\n",
            "Requirement already satisfied: regex!=2019.12.17 in /usr/local/lib/python3.9/dist-packages (from transformers) (2022.10.31)\n",
            "Requirement already satisfied: requests in /usr/local/lib/python3.9/dist-packages (from transformers) (2.27.1)\n",
            "Requirement already satisfied: typing-extensions>=3.7.4.3 in /usr/local/lib/python3.9/dist-packages (from huggingface-hub<1.0,>=0.11.0->transformers) (4.5.0)\n",
            "Requirement already satisfied: charset-normalizer~=2.0.0 in /usr/local/lib/python3.9/dist-packages (from requests->transformers) (2.0.12)\n",
            "Requirement already satisfied: certifi>=2017.4.17 in /usr/local/lib/python3.9/dist-packages (from requests->transformers) (2022.12.7)\n",
            "Requirement already satisfied: idna<4,>=2.5 in /usr/local/lib/python3.9/dist-packages (from requests->transformers) (3.4)\n",
            "Requirement already satisfied: urllib3<1.27,>=1.21.1 in /usr/local/lib/python3.9/dist-packages (from requests->transformers) (1.26.15)\n",
            "Installing collected packages: huggingface-hub, transformers\n",
            "Successfully installed huggingface-hub-0.13.4 transformers-4.27.4\n"
          ]
        }
      ]
    },
    {
      "cell_type": "code",
      "source": [
        "from transformers import BertTokenizer"
      ],
      "metadata": {
        "id": "-fhsggDXnoEV"
      },
      "execution_count": null,
      "outputs": []
    },
    {
      "cell_type": "code",
      "source": [
        "tokenizer = BertTokenizer.from_pretrained('bert-base-cased')"
      ],
      "metadata": {
        "id": "j7cFopoBnq98"
      },
      "execution_count": null,
      "outputs": []
    },
    {
      "cell_type": "code",
      "source": [
        "sequence = \"A Titan RTX has 24GB of VRAM\""
      ],
      "metadata": {
        "id": "z29CdRxLo6in"
      },
      "execution_count": null,
      "outputs": []
    },
    {
      "cell_type": "code",
      "source": [
        "tokenizer.tokenize(sequence)"
      ],
      "metadata": {
        "colab": {
          "base_uri": "https://localhost:8080/"
        },
        "id": "h5NrqkNMpRMa",
        "outputId": "27a425c6-1f05-40c0-d0a8-6ac9f07b5811"
      },
      "execution_count": null,
      "outputs": [
        {
          "output_type": "execute_result",
          "data": {
            "text/plain": [
              "['A',\n",
              " 'Titan',\n",
              " 'R',\n",
              " '##T',\n",
              " '##X',\n",
              " 'has',\n",
              " '24',\n",
              " '##GB',\n",
              " 'of',\n",
              " 'V',\n",
              " '##RA',\n",
              " '##M']"
            ]
          },
          "metadata": {},
          "execution_count": 85
        }
      ]
    },
    {
      "cell_type": "code",
      "source": [
        "inputs = tokenizer(sequence)\n",
        "inputs"
      ],
      "metadata": {
        "colab": {
          "base_uri": "https://localhost:8080/"
        },
        "id": "TiAQ2wfWnv2y",
        "outputId": "42c2e1d7-7537-4745-8dcd-91de05e46c12"
      },
      "execution_count": null,
      "outputs": [
        {
          "output_type": "execute_result",
          "data": {
            "text/plain": [
              "{'input_ids': [101, 138, 18696, 155, 1942, 3190, 1144, 1572, 13745, 1104, 159, 9664, 2107, 102], 'token_type_ids': [0, 0, 0, 0, 0, 0, 0, 0, 0, 0, 0, 0, 0, 0], 'attention_mask': [1, 1, 1, 1, 1, 1, 1, 1, 1, 1, 1, 1, 1, 1]}"
            ]
          },
          "metadata": {},
          "execution_count": 92
        }
      ]
    },
    {
      "cell_type": "code",
      "source": [
        "encoded = inputs['input_ids']\n",
        "encoded"
      ],
      "metadata": {
        "colab": {
          "base_uri": "https://localhost:8080/"
        },
        "id": "I0otZWNkpu0E",
        "outputId": "05c4a043-4c65-4145-e3d4-4cf198de97ae"
      },
      "execution_count": null,
      "outputs": [
        {
          "output_type": "execute_result",
          "data": {
            "text/plain": [
              "[101,\n",
              " 138,\n",
              " 18696,\n",
              " 155,\n",
              " 1942,\n",
              " 3190,\n",
              " 1144,\n",
              " 1572,\n",
              " 13745,\n",
              " 1104,\n",
              " 159,\n",
              " 9664,\n",
              " 2107,\n",
              " 102]"
            ]
          },
          "metadata": {},
          "execution_count": 93
        }
      ]
    },
    {
      "cell_type": "code",
      "source": [
        "decoded_sequence = tokenizer.decode(encoded)\n",
        "decoded_sequence"
      ],
      "metadata": {
        "colab": {
          "base_uri": "https://localhost:8080/",
          "height": 35
        },
        "id": "8D5Fqo-woxJZ",
        "outputId": "0f080834-d70c-4eb2-c41d-ffc8965cd283"
      },
      "execution_count": null,
      "outputs": [
        {
          "output_type": "execute_result",
          "data": {
            "text/plain": [
              "'[CLS] A Titan RTX has 24GB of VRAM [SEP]'"
            ],
            "application/vnd.google.colaboratory.intrinsic+json": {
              "type": "string"
            }
          },
          "metadata": {},
          "execution_count": 94
        }
      ]
    },
    {
      "cell_type": "code",
      "source": [
        "sequence_a = \"HuggingFace is based in NYC\"\n",
        "sequence_b = \"Where is HuggingFace based?\""
      ],
      "metadata": {
        "id": "AUKkvJ5ApluE"
      },
      "execution_count": null,
      "outputs": []
    },
    {
      "cell_type": "code",
      "source": [
        "encoded = tokenizer(sequence_a, sequence_b)"
      ],
      "metadata": {
        "id": "CuQHV8u0qLHb"
      },
      "execution_count": null,
      "outputs": []
    },
    {
      "cell_type": "code",
      "source": [
        "encoded"
      ],
      "metadata": {
        "colab": {
          "base_uri": "https://localhost:8080/"
        },
        "id": "q0XZqpV9qNPO",
        "outputId": "ebb6f73f-1c45-448d-9e31-d7f29d2cfbe4"
      },
      "execution_count": null,
      "outputs": [
        {
          "output_type": "execute_result",
          "data": {
            "text/plain": [
              "{'input_ids': [101, 20164, 10932, 2271, 7954, 1110, 1359, 1107, 17520, 102, 2777, 1110, 20164, 10932, 2271, 7954, 1359, 136, 102], 'token_type_ids': [0, 0, 0, 0, 0, 0, 0, 0, 0, 0, 1, 1, 1, 1, 1, 1, 1, 1, 1], 'attention_mask': [1, 1, 1, 1, 1, 1, 1, 1, 1, 1, 1, 1, 1, 1, 1, 1, 1, 1, 1]}"
            ]
          },
          "metadata": {},
          "execution_count": 97
        }
      ]
    },
    {
      "cell_type": "code",
      "source": [
        "encoded['token_type_ids']"
      ],
      "metadata": {
        "colab": {
          "base_uri": "https://localhost:8080/"
        },
        "id": "42GqU3b1qOOD",
        "outputId": "1fc7f119-c088-4b4b-82eb-0432dcdbbda7"
      },
      "execution_count": null,
      "outputs": [
        {
          "output_type": "execute_result",
          "data": {
            "text/plain": [
              "[0, 0, 0, 0, 0, 0, 0, 0, 0, 0, 1, 1, 1, 1, 1, 1, 1, 1, 1]"
            ]
          },
          "metadata": {},
          "execution_count": 98
        }
      ]
    },
    {
      "cell_type": "code",
      "source": [
        "sequence_a = \"This is a short sequence.\"\n",
        "sequence_b = \"This is a rather long sequence. It is at least longer than the sequence A.\""
      ],
      "metadata": {
        "id": "ysRVPkKgqTV5"
      },
      "execution_count": null,
      "outputs": []
    },
    {
      "cell_type": "code",
      "source": [
        "padded_sequences = tokenizer([sequence_a, sequence_b], padding=True)\n",
        "padded_sequences"
      ],
      "metadata": {
        "colab": {
          "base_uri": "https://localhost:8080/"
        },
        "id": "x8v7fIqwqV8P",
        "outputId": "7c9c709d-c236-4d31-8417-f2c04125992e"
      },
      "execution_count": null,
      "outputs": [
        {
          "output_type": "execute_result",
          "data": {
            "text/plain": [
              "{'input_ids': [[101, 1188, 1110, 170, 1603, 4954, 119, 102, 0, 0, 0, 0, 0, 0, 0, 0, 0, 0, 0], [101, 1188, 1110, 170, 1897, 1263, 4954, 119, 1135, 1110, 1120, 1655, 2039, 1190, 1103, 4954, 138, 119, 102]], 'token_type_ids': [[0, 0, 0, 0, 0, 0, 0, 0, 0, 0, 0, 0, 0, 0, 0, 0, 0, 0, 0], [0, 0, 0, 0, 0, 0, 0, 0, 0, 0, 0, 0, 0, 0, 0, 0, 0, 0, 0]], 'attention_mask': [[1, 1, 1, 1, 1, 1, 1, 1, 0, 0, 0, 0, 0, 0, 0, 0, 0, 0, 0], [1, 1, 1, 1, 1, 1, 1, 1, 1, 1, 1, 1, 1, 1, 1, 1, 1, 1, 1]]}"
            ]
          },
          "metadata": {},
          "execution_count": 100
        }
      ]
    },
    {
      "cell_type": "code",
      "source": [
        "padded_sequences[\"attention_mask\"]"
      ],
      "metadata": {
        "colab": {
          "base_uri": "https://localhost:8080/"
        },
        "id": "16cEDac_qZZz",
        "outputId": "f8c04ce2-2af3-4c73-abf2-89b54de027fa"
      },
      "execution_count": null,
      "outputs": [
        {
          "output_type": "execute_result",
          "data": {
            "text/plain": [
              "[[1, 1, 1, 1, 1, 1, 1, 1, 0, 0, 0, 0, 0, 0, 0, 0, 0, 0, 0],\n",
              " [1, 1, 1, 1, 1, 1, 1, 1, 1, 1, 1, 1, 1, 1, 1, 1, 1, 1, 1]]"
            ]
          },
          "metadata": {},
          "execution_count": 101
        }
      ]
    },
    {
      "cell_type": "markdown",
      "source": [
        "# Wordpiece tokenizer training"
      ],
      "metadata": {
        "id": "jP3kH0mFeaSf"
      }
    },
    {
      "cell_type": "code",
      "source": [
        "!pip install tokenizers"
      ],
      "metadata": {
        "colab": {
          "base_uri": "https://localhost:8080/"
        },
        "id": "4k2pfH60eY4z",
        "outputId": "b38824c9-4caf-4822-bce7-2bf55c932f4f"
      },
      "execution_count": null,
      "outputs": [
        {
          "output_type": "stream",
          "name": "stdout",
          "text": [
            "Looking in indexes: https://pypi.org/simple, https://us-python.pkg.dev/colab-wheels/public/simple/\n",
            "Collecting tokenizers\n",
            "  Downloading tokenizers-0.13.3-cp39-cp39-manylinux_2_17_x86_64.manylinux2014_x86_64.whl (7.8 MB)\n",
            "\u001b[2K     \u001b[90m━━━━━━━━━━━━━━━━━━━━━━━━━━━━━━━━━━━━━━━━\u001b[0m \u001b[32m7.8/7.8 MB\u001b[0m \u001b[31m46.5 MB/s\u001b[0m eta \u001b[36m0:00:00\u001b[0m\n",
            "\u001b[?25hInstalling collected packages: tokenizers\n",
            "Successfully installed tokenizers-0.13.3\n"
          ]
        }
      ]
    },
    {
      "cell_type": "code",
      "source": [
        "from tokenizers import BertWordPieceTokenizer\n",
        "import urllib.request\n",
        "import pandas as pd"
      ],
      "metadata": {
        "id": "1tU47WP7efFy"
      },
      "execution_count": null,
      "outputs": []
    },
    {
      "cell_type": "code",
      "source": [
        "urllib.request.urlretrieve(\"https://raw.githubusercontent.com/e9t/nsmc/master/ratings.txt\", filename=\"ratings.txt\")"
      ],
      "metadata": {
        "colab": {
          "base_uri": "https://localhost:8080/"
        },
        "id": "XpyWHBYLe5v7",
        "outputId": "86e46642-d69a-477f-c6a3-b2c13dcc311f"
      },
      "execution_count": null,
      "outputs": [
        {
          "output_type": "execute_result",
          "data": {
            "text/plain": [
              "('ratings.txt', <http.client.HTTPMessage at 0x7f95c7d0b6d0>)"
            ]
          },
          "metadata": {},
          "execution_count": 5
        }
      ]
    },
    {
      "cell_type": "code",
      "source": [
        "naver_df = pd.read_table('ratings.txt')\n",
        "naver_df = naver_df.dropna(how='any')\n",
        "with open('naver_review.txt', 'w', encoding='utf8') as f:\n",
        "    f.write('\\n'.join(naver_df['document']))"
      ],
      "metadata": {
        "id": "S9AXFFCbe7TZ"
      },
      "execution_count": null,
      "outputs": []
    },
    {
      "cell_type": "code",
      "source": [
        "tokenizer = BertWordPieceTokenizer(lowercase=False, strip_accents=False) #lowercase : 대소문자 구분, strip_accents : 악센트 제거"
      ],
      "metadata": {
        "id": "3AFJZ5QDehnT"
      },
      "execution_count": null,
      "outputs": []
    },
    {
      "cell_type": "code",
      "source": [
        "data_file = 'naver_review.txt'\n",
        "# 단어 집합의 크기\n",
        "vocab_size = 30000\n",
        "# 병합 전 초기 토큰의 허용 개수\n",
        "limit_alphabet = 6000\n",
        "# 최소 해당 횟수만큼 등장한 쌍에 대해서만 병합\n",
        "min_frequency = 5\n",
        "\n",
        "tokenizer.train(files=data_file,\n",
        "                vocab_size=vocab_size,\n",
        "                limit_alphabet=limit_alphabet,\n",
        "                min_frequency=min_frequency)"
      ],
      "metadata": {
        "id": "XQHOaRP_euCd"
      },
      "execution_count": null,
      "outputs": []
    },
    {
      "cell_type": "code",
      "source": [
        "# vocab 저장\n",
        "tokenizer.save_model('./')"
      ],
      "metadata": {
        "colab": {
          "base_uri": "https://localhost:8080/"
        },
        "id": "iOc6LxRNfHsa",
        "outputId": "4e73226d-e2c5-4a97-bf45-b7933413e3d8"
      },
      "execution_count": null,
      "outputs": [
        {
          "output_type": "execute_result",
          "data": {
            "text/plain": [
              "['./vocab.txt']"
            ]
          },
          "metadata": {},
          "execution_count": 11
        }
      ]
    },
    {
      "cell_type": "code",
      "source": [
        "df = pd.read_fwf('vocab.txt', header=None)\n",
        "df"
      ],
      "metadata": {
        "colab": {
          "base_uri": "https://localhost:8080/",
          "height": 423
        },
        "id": "tSiXGahMfSCC",
        "outputId": "3e6b12fc-7eff-43be-e794-f0bd9d3446da"
      },
      "execution_count": null,
      "outputs": [
        {
          "output_type": "execute_result",
          "data": {
            "text/plain": [
              "            0\n",
              "0       [PAD]\n",
              "1       [UNK]\n",
              "2       [CLS]\n",
              "3       [SEP]\n",
              "4      [MASK]\n",
              "...       ...\n",
              "29995     말들이\n",
              "29996     말라는\n",
              "29997    말밖에는\n",
              "29998      맘을\n",
              "29999      맛도\n",
              "\n",
              "[30000 rows x 1 columns]"
            ],
            "text/html": [
              "\n",
              "  <div id=\"df-d143397a-db58-4d5e-8ce5-b094805f6079\">\n",
              "    <div class=\"colab-df-container\">\n",
              "      <div>\n",
              "<style scoped>\n",
              "    .dataframe tbody tr th:only-of-type {\n",
              "        vertical-align: middle;\n",
              "    }\n",
              "\n",
              "    .dataframe tbody tr th {\n",
              "        vertical-align: top;\n",
              "    }\n",
              "\n",
              "    .dataframe thead th {\n",
              "        text-align: right;\n",
              "    }\n",
              "</style>\n",
              "<table border=\"1\" class=\"dataframe\">\n",
              "  <thead>\n",
              "    <tr style=\"text-align: right;\">\n",
              "      <th></th>\n",
              "      <th>0</th>\n",
              "    </tr>\n",
              "  </thead>\n",
              "  <tbody>\n",
              "    <tr>\n",
              "      <th>0</th>\n",
              "      <td>[PAD]</td>\n",
              "    </tr>\n",
              "    <tr>\n",
              "      <th>1</th>\n",
              "      <td>[UNK]</td>\n",
              "    </tr>\n",
              "    <tr>\n",
              "      <th>2</th>\n",
              "      <td>[CLS]</td>\n",
              "    </tr>\n",
              "    <tr>\n",
              "      <th>3</th>\n",
              "      <td>[SEP]</td>\n",
              "    </tr>\n",
              "    <tr>\n",
              "      <th>4</th>\n",
              "      <td>[MASK]</td>\n",
              "    </tr>\n",
              "    <tr>\n",
              "      <th>...</th>\n",
              "      <td>...</td>\n",
              "    </tr>\n",
              "    <tr>\n",
              "      <th>29995</th>\n",
              "      <td>말들이</td>\n",
              "    </tr>\n",
              "    <tr>\n",
              "      <th>29996</th>\n",
              "      <td>말라는</td>\n",
              "    </tr>\n",
              "    <tr>\n",
              "      <th>29997</th>\n",
              "      <td>말밖에는</td>\n",
              "    </tr>\n",
              "    <tr>\n",
              "      <th>29998</th>\n",
              "      <td>맘을</td>\n",
              "    </tr>\n",
              "    <tr>\n",
              "      <th>29999</th>\n",
              "      <td>맛도</td>\n",
              "    </tr>\n",
              "  </tbody>\n",
              "</table>\n",
              "<p>30000 rows × 1 columns</p>\n",
              "</div>\n",
              "      <button class=\"colab-df-convert\" onclick=\"convertToInteractive('df-d143397a-db58-4d5e-8ce5-b094805f6079')\"\n",
              "              title=\"Convert this dataframe to an interactive table.\"\n",
              "              style=\"display:none;\">\n",
              "        \n",
              "  <svg xmlns=\"http://www.w3.org/2000/svg\" height=\"24px\"viewBox=\"0 0 24 24\"\n",
              "       width=\"24px\">\n",
              "    <path d=\"M0 0h24v24H0V0z\" fill=\"none\"/>\n",
              "    <path d=\"M18.56 5.44l.94 2.06.94-2.06 2.06-.94-2.06-.94-.94-2.06-.94 2.06-2.06.94zm-11 1L8.5 8.5l.94-2.06 2.06-.94-2.06-.94L8.5 2.5l-.94 2.06-2.06.94zm10 10l.94 2.06.94-2.06 2.06-.94-2.06-.94-.94-2.06-.94 2.06-2.06.94z\"/><path d=\"M17.41 7.96l-1.37-1.37c-.4-.4-.92-.59-1.43-.59-.52 0-1.04.2-1.43.59L10.3 9.45l-7.72 7.72c-.78.78-.78 2.05 0 2.83L4 21.41c.39.39.9.59 1.41.59.51 0 1.02-.2 1.41-.59l7.78-7.78 2.81-2.81c.8-.78.8-2.07 0-2.86zM5.41 20L4 18.59l7.72-7.72 1.47 1.35L5.41 20z\"/>\n",
              "  </svg>\n",
              "      </button>\n",
              "      \n",
              "  <style>\n",
              "    .colab-df-container {\n",
              "      display:flex;\n",
              "      flex-wrap:wrap;\n",
              "      gap: 12px;\n",
              "    }\n",
              "\n",
              "    .colab-df-convert {\n",
              "      background-color: #E8F0FE;\n",
              "      border: none;\n",
              "      border-radius: 50%;\n",
              "      cursor: pointer;\n",
              "      display: none;\n",
              "      fill: #1967D2;\n",
              "      height: 32px;\n",
              "      padding: 0 0 0 0;\n",
              "      width: 32px;\n",
              "    }\n",
              "\n",
              "    .colab-df-convert:hover {\n",
              "      background-color: #E2EBFA;\n",
              "      box-shadow: 0px 1px 2px rgba(60, 64, 67, 0.3), 0px 1px 3px 1px rgba(60, 64, 67, 0.15);\n",
              "      fill: #174EA6;\n",
              "    }\n",
              "\n",
              "    [theme=dark] .colab-df-convert {\n",
              "      background-color: #3B4455;\n",
              "      fill: #D2E3FC;\n",
              "    }\n",
              "\n",
              "    [theme=dark] .colab-df-convert:hover {\n",
              "      background-color: #434B5C;\n",
              "      box-shadow: 0px 1px 3px 1px rgba(0, 0, 0, 0.15);\n",
              "      filter: drop-shadow(0px 1px 2px rgba(0, 0, 0, 0.3));\n",
              "      fill: #FFFFFF;\n",
              "    }\n",
              "  </style>\n",
              "\n",
              "      <script>\n",
              "        const buttonEl =\n",
              "          document.querySelector('#df-d143397a-db58-4d5e-8ce5-b094805f6079 button.colab-df-convert');\n",
              "        buttonEl.style.display =\n",
              "          google.colab.kernel.accessAllowed ? 'block' : 'none';\n",
              "\n",
              "        async function convertToInteractive(key) {\n",
              "          const element = document.querySelector('#df-d143397a-db58-4d5e-8ce5-b094805f6079');\n",
              "          const dataTable =\n",
              "            await google.colab.kernel.invokeFunction('convertToInteractive',\n",
              "                                                     [key], {});\n",
              "          if (!dataTable) return;\n",
              "\n",
              "          const docLinkHtml = 'Like what you see? Visit the ' +\n",
              "            '<a target=\"_blank\" href=https://colab.research.google.com/notebooks/data_table.ipynb>data table notebook</a>'\n",
              "            + ' to learn more about interactive tables.';\n",
              "          element.innerHTML = '';\n",
              "          dataTable['output_type'] = 'display_data';\n",
              "          await google.colab.output.renderOutput(dataTable, element);\n",
              "          const docLink = document.createElement('div');\n",
              "          docLink.innerHTML = docLinkHtml;\n",
              "          element.appendChild(docLink);\n",
              "        }\n",
              "      </script>\n",
              "    </div>\n",
              "  </div>\n",
              "  "
            ]
          },
          "metadata": {},
          "execution_count": 12
        }
      ]
    },
    {
      "cell_type": "markdown",
      "source": [
        "# FastText"
      ],
      "metadata": {
        "id": "gzbCXTmzcJ39"
      }
    },
    {
      "cell_type": "code",
      "source": [
        "!pip install konlpy"
      ],
      "metadata": {
        "colab": {
          "base_uri": "https://localhost:8080/"
        },
        "id": "ExjITaBLczoM",
        "outputId": "02e9aaf0-83f0-480d-b713-0ebc29062802"
      },
      "execution_count": null,
      "outputs": [
        {
          "output_type": "stream",
          "name": "stdout",
          "text": [
            "Looking in indexes: https://pypi.org/simple, https://us-python.pkg.dev/colab-wheels/public/simple/\n",
            "Collecting konlpy\n",
            "  Downloading konlpy-0.6.0-py2.py3-none-any.whl (19.4 MB)\n",
            "\u001b[2K     \u001b[90m━━━━━━━━━━━━━━━━━━━━━━━━━━━━━━━━━━━━━━━━\u001b[0m \u001b[32m19.4/19.4 MB\u001b[0m \u001b[31m61.9 MB/s\u001b[0m eta \u001b[36m0:00:00\u001b[0m\n",
            "\u001b[?25hRequirement already satisfied: numpy>=1.6 in /usr/local/lib/python3.9/dist-packages (from konlpy) (1.22.4)\n",
            "Collecting JPype1>=0.7.0\n",
            "  Downloading JPype1-1.4.1-cp39-cp39-manylinux_2_12_x86_64.manylinux2010_x86_64.whl (465 kB)\n",
            "\u001b[2K     \u001b[90m━━━━━━━━━━━━━━━━━━━━━━━━━━━━━━━━━━━━━━\u001b[0m \u001b[32m465.3/465.3 KB\u001b[0m \u001b[31m37.8 MB/s\u001b[0m eta \u001b[36m0:00:00\u001b[0m\n",
            "\u001b[?25hRequirement already satisfied: lxml>=4.1.0 in /usr/local/lib/python3.9/dist-packages (from konlpy) (4.9.2)\n",
            "Requirement already satisfied: packaging in /usr/local/lib/python3.9/dist-packages (from JPype1>=0.7.0->konlpy) (23.0)\n",
            "Installing collected packages: JPype1, konlpy\n",
            "Successfully installed JPype1-1.4.1 konlpy-0.6.0\n"
          ]
        }
      ]
    },
    {
      "cell_type": "code",
      "source": [
        "from gensim.models import FastText\n",
        "import urllib.request\n",
        "import pandas as pd\n",
        "from konlpy.tag import Okt\n",
        "from tqdm import tqdm"
      ],
      "metadata": {
        "id": "qz-KhKsMfS4T"
      },
      "execution_count": null,
      "outputs": []
    },
    {
      "cell_type": "code",
      "source": [
        "urllib.request.urlretrieve(\"https://raw.githubusercontent.com/e9t/nsmc/master/ratings.txt\", filename=\"ratings.txt\")"
      ],
      "metadata": {
        "colab": {
          "base_uri": "https://localhost:8080/"
        },
        "id": "dNrp232kcQD_",
        "outputId": "fd869d57-108d-4c19-8eb4-358252eca8de"
      },
      "execution_count": null,
      "outputs": [
        {
          "output_type": "execute_result",
          "data": {
            "text/plain": [
              "('ratings.txt', <http.client.HTTPMessage at 0x7f94fb11bdf0>)"
            ]
          },
          "metadata": {},
          "execution_count": 5
        }
      ]
    },
    {
      "cell_type": "code",
      "source": [
        "naver_df = pd.read_table('ratings.txt')\n",
        "naver_df.head()"
      ],
      "metadata": {
        "colab": {
          "base_uri": "https://localhost:8080/",
          "height": 285
        },
        "id": "1TTpeoxTchvs",
        "outputId": "7598b703-79d8-45b5-b290-477356f06444"
      },
      "execution_count": null,
      "outputs": [
        {
          "output_type": "execute_result",
          "data": {
            "text/plain": [
              "         id                                           document  label\n",
              "0   8112052                                어릴때보고 지금다시봐도 재밌어요ㅋㅋ      1\n",
              "1   8132799  디자인을 배우는 학생으로, 외국디자이너와 그들이 일군 전통을 통해 발전해가는 문화산...      1\n",
              "2   4655635               폴리스스토리 시리즈는 1부터 뉴까지 버릴께 하나도 없음.. 최고.      1\n",
              "3   9251303  와.. 연기가 진짜 개쩔구나.. 지루할거라고 생각했는데 몰입해서 봤다.. 그래 이런...      1\n",
              "4  10067386                        안개 자욱한 밤하늘에 떠 있는 초승달 같은 영화.      1"
            ],
            "text/html": [
              "\n",
              "  <div id=\"df-e478fc34-65c1-4a7d-add2-98f824f0c2f7\">\n",
              "    <div class=\"colab-df-container\">\n",
              "      <div>\n",
              "<style scoped>\n",
              "    .dataframe tbody tr th:only-of-type {\n",
              "        vertical-align: middle;\n",
              "    }\n",
              "\n",
              "    .dataframe tbody tr th {\n",
              "        vertical-align: top;\n",
              "    }\n",
              "\n",
              "    .dataframe thead th {\n",
              "        text-align: right;\n",
              "    }\n",
              "</style>\n",
              "<table border=\"1\" class=\"dataframe\">\n",
              "  <thead>\n",
              "    <tr style=\"text-align: right;\">\n",
              "      <th></th>\n",
              "      <th>id</th>\n",
              "      <th>document</th>\n",
              "      <th>label</th>\n",
              "    </tr>\n",
              "  </thead>\n",
              "  <tbody>\n",
              "    <tr>\n",
              "      <th>0</th>\n",
              "      <td>8112052</td>\n",
              "      <td>어릴때보고 지금다시봐도 재밌어요ㅋㅋ</td>\n",
              "      <td>1</td>\n",
              "    </tr>\n",
              "    <tr>\n",
              "      <th>1</th>\n",
              "      <td>8132799</td>\n",
              "      <td>디자인을 배우는 학생으로, 외국디자이너와 그들이 일군 전통을 통해 발전해가는 문화산...</td>\n",
              "      <td>1</td>\n",
              "    </tr>\n",
              "    <tr>\n",
              "      <th>2</th>\n",
              "      <td>4655635</td>\n",
              "      <td>폴리스스토리 시리즈는 1부터 뉴까지 버릴께 하나도 없음.. 최고.</td>\n",
              "      <td>1</td>\n",
              "    </tr>\n",
              "    <tr>\n",
              "      <th>3</th>\n",
              "      <td>9251303</td>\n",
              "      <td>와.. 연기가 진짜 개쩔구나.. 지루할거라고 생각했는데 몰입해서 봤다.. 그래 이런...</td>\n",
              "      <td>1</td>\n",
              "    </tr>\n",
              "    <tr>\n",
              "      <th>4</th>\n",
              "      <td>10067386</td>\n",
              "      <td>안개 자욱한 밤하늘에 떠 있는 초승달 같은 영화.</td>\n",
              "      <td>1</td>\n",
              "    </tr>\n",
              "  </tbody>\n",
              "</table>\n",
              "</div>\n",
              "      <button class=\"colab-df-convert\" onclick=\"convertToInteractive('df-e478fc34-65c1-4a7d-add2-98f824f0c2f7')\"\n",
              "              title=\"Convert this dataframe to an interactive table.\"\n",
              "              style=\"display:none;\">\n",
              "        \n",
              "  <svg xmlns=\"http://www.w3.org/2000/svg\" height=\"24px\"viewBox=\"0 0 24 24\"\n",
              "       width=\"24px\">\n",
              "    <path d=\"M0 0h24v24H0V0z\" fill=\"none\"/>\n",
              "    <path d=\"M18.56 5.44l.94 2.06.94-2.06 2.06-.94-2.06-.94-.94-2.06-.94 2.06-2.06.94zm-11 1L8.5 8.5l.94-2.06 2.06-.94-2.06-.94L8.5 2.5l-.94 2.06-2.06.94zm10 10l.94 2.06.94-2.06 2.06-.94-2.06-.94-.94-2.06-.94 2.06-2.06.94z\"/><path d=\"M17.41 7.96l-1.37-1.37c-.4-.4-.92-.59-1.43-.59-.52 0-1.04.2-1.43.59L10.3 9.45l-7.72 7.72c-.78.78-.78 2.05 0 2.83L4 21.41c.39.39.9.59 1.41.59.51 0 1.02-.2 1.41-.59l7.78-7.78 2.81-2.81c.8-.78.8-2.07 0-2.86zM5.41 20L4 18.59l7.72-7.72 1.47 1.35L5.41 20z\"/>\n",
              "  </svg>\n",
              "      </button>\n",
              "      \n",
              "  <style>\n",
              "    .colab-df-container {\n",
              "      display:flex;\n",
              "      flex-wrap:wrap;\n",
              "      gap: 12px;\n",
              "    }\n",
              "\n",
              "    .colab-df-convert {\n",
              "      background-color: #E8F0FE;\n",
              "      border: none;\n",
              "      border-radius: 50%;\n",
              "      cursor: pointer;\n",
              "      display: none;\n",
              "      fill: #1967D2;\n",
              "      height: 32px;\n",
              "      padding: 0 0 0 0;\n",
              "      width: 32px;\n",
              "    }\n",
              "\n",
              "    .colab-df-convert:hover {\n",
              "      background-color: #E2EBFA;\n",
              "      box-shadow: 0px 1px 2px rgba(60, 64, 67, 0.3), 0px 1px 3px 1px rgba(60, 64, 67, 0.15);\n",
              "      fill: #174EA6;\n",
              "    }\n",
              "\n",
              "    [theme=dark] .colab-df-convert {\n",
              "      background-color: #3B4455;\n",
              "      fill: #D2E3FC;\n",
              "    }\n",
              "\n",
              "    [theme=dark] .colab-df-convert:hover {\n",
              "      background-color: #434B5C;\n",
              "      box-shadow: 0px 1px 3px 1px rgba(0, 0, 0, 0.15);\n",
              "      filter: drop-shadow(0px 1px 2px rgba(0, 0, 0, 0.3));\n",
              "      fill: #FFFFFF;\n",
              "    }\n",
              "  </style>\n",
              "\n",
              "      <script>\n",
              "        const buttonEl =\n",
              "          document.querySelector('#df-e478fc34-65c1-4a7d-add2-98f824f0c2f7 button.colab-df-convert');\n",
              "        buttonEl.style.display =\n",
              "          google.colab.kernel.accessAllowed ? 'block' : 'none';\n",
              "\n",
              "        async function convertToInteractive(key) {\n",
              "          const element = document.querySelector('#df-e478fc34-65c1-4a7d-add2-98f824f0c2f7');\n",
              "          const dataTable =\n",
              "            await google.colab.kernel.invokeFunction('convertToInteractive',\n",
              "                                                     [key], {});\n",
              "          if (!dataTable) return;\n",
              "\n",
              "          const docLinkHtml = 'Like what you see? Visit the ' +\n",
              "            '<a target=\"_blank\" href=https://colab.research.google.com/notebooks/data_table.ipynb>data table notebook</a>'\n",
              "            + ' to learn more about interactive tables.';\n",
              "          element.innerHTML = '';\n",
              "          dataTable['output_type'] = 'display_data';\n",
              "          await google.colab.output.renderOutput(dataTable, element);\n",
              "          const docLink = document.createElement('div');\n",
              "          docLink.innerHTML = docLinkHtml;\n",
              "          element.appendChild(docLink);\n",
              "        }\n",
              "      </script>\n",
              "    </div>\n",
              "  </div>\n",
              "  "
            ]
          },
          "metadata": {},
          "execution_count": 8
        }
      ]
    },
    {
      "cell_type": "code",
      "source": [
        "naver_df.shape"
      ],
      "metadata": {
        "colab": {
          "base_uri": "https://localhost:8080/"
        },
        "id": "8kxqWdNLdfCp",
        "outputId": "d7a4048c-438a-43a4-ea70-f47a9a8a607d"
      },
      "execution_count": null,
      "outputs": [
        {
          "output_type": "execute_result",
          "data": {
            "text/plain": [
              "(200000, 3)"
            ]
          },
          "metadata": {},
          "execution_count": 20
        }
      ]
    },
    {
      "cell_type": "code",
      "source": [
        "document = naver_df.document.tolist()\n",
        "document[0]"
      ],
      "metadata": {
        "colab": {
          "base_uri": "https://localhost:8080/",
          "height": 35
        },
        "id": "YnwtJUDgcqv-",
        "outputId": "11f61b71-0f7e-4d62-d1c6-67a9fc944c98"
      },
      "execution_count": null,
      "outputs": [
        {
          "output_type": "execute_result",
          "data": {
            "text/plain": [
              "'어릴때보고 지금다시봐도 재밌어요ㅋㅋ'"
            ],
            "application/vnd.google.colaboratory.intrinsic+json": {
              "type": "string"
            }
          },
          "metadata": {},
          "execution_count": 12
        }
      ]
    },
    {
      "cell_type": "code",
      "source": [
        "okt = Okt()"
      ],
      "metadata": {
        "id": "M322n3cVc8Lr"
      },
      "execution_count": null,
      "outputs": []
    },
    {
      "cell_type": "code",
      "source": [
        "using_tag = ['Noun','Verb','Adjective']"
      ],
      "metadata": {
        "id": "Oz7pbylXc-k5"
      },
      "execution_count": null,
      "outputs": []
    },
    {
      "cell_type": "code",
      "source": [
        "okt.pos(document[0])"
      ],
      "metadata": {
        "colab": {
          "base_uri": "https://localhost:8080/"
        },
        "id": "KpwyAhEmdBIi",
        "outputId": "e3332793-9dbc-48ba-f139-3606c5066cb9"
      },
      "execution_count": null,
      "outputs": [
        {
          "output_type": "execute_result",
          "data": {
            "text/plain": [
              "[('어릴', 'Verb'),\n",
              " ('때', 'Noun'),\n",
              " ('보고', 'Noun'),\n",
              " ('지금', 'Noun'),\n",
              " ('다시', 'Noun'),\n",
              " ('봐도', 'Verb'),\n",
              " ('재밌어요', 'Adjective'),\n",
              " ('ㅋㅋ', 'KoreanParticle')]"
            ]
          },
          "metadata": {},
          "execution_count": 19
        }
      ]
    },
    {
      "cell_type": "code",
      "source": [
        "sentence = []\n",
        "for doc in tqdm(document[:2000]):\n",
        "  sent = []\n",
        "  tags = okt.pos(doc)\n",
        "  for d in tags:\n",
        "    if d[1] in using_tag:\n",
        "      sent.append(d[0])\n",
        "  sentence.append(sent)"
      ],
      "metadata": {
        "colab": {
          "base_uri": "https://localhost:8080/"
        },
        "id": "pwEIW_kKdaWj",
        "outputId": "9e42e939-3875-4c86-e564-3e2dda28256b"
      },
      "execution_count": null,
      "outputs": [
        {
          "output_type": "stream",
          "name": "stderr",
          "text": [
            "100%|██████████| 2000/2000 [00:12<00:00, 156.11it/s]\n"
          ]
        }
      ]
    },
    {
      "cell_type": "code",
      "source": [
        "sentence[0]"
      ],
      "metadata": {
        "colab": {
          "base_uri": "https://localhost:8080/"
        },
        "id": "ukPTRlredzaA",
        "outputId": "571ffc75-a6e9-477f-ced6-e5626a8499e3"
      },
      "execution_count": null,
      "outputs": [
        {
          "output_type": "execute_result",
          "data": {
            "text/plain": [
              "['어릴', '때', '보고', '지금', '다시', '봐도', '재밌어요']"
            ]
          },
          "metadata": {},
          "execution_count": 24
        }
      ]
    },
    {
      "cell_type": "code",
      "source": [
        "model = FastText(sentence,vector_size=64,window=5,min_count=5,sg=1)"
      ],
      "metadata": {
        "id": "Tp6Abu2EeEIS"
      },
      "execution_count": null,
      "outputs": []
    },
    {
      "cell_type": "code",
      "source": [
        "model.wv.most_similar('재밌어요')"
      ],
      "metadata": {
        "colab": {
          "base_uri": "https://localhost:8080/"
        },
        "id": "Z7ViePjEeNRy",
        "outputId": "47205c00-7901-434b-a298-ed34806d302c"
      },
      "execution_count": null,
      "outputs": [
        {
          "output_type": "execute_result",
          "data": {
            "text/plain": [
              "[('재미있어요', 0.9997705221176147),\n",
              " ('재밌습니다', 0.9997278451919556),\n",
              " ('우리나라', 0.9997276067733765),\n",
              " ('봤어요', 0.9997009038925171),\n",
              " ('이야기', 0.9996957182884216),\n",
              " ('봤습니다', 0.9996936321258545),\n",
              " ('였습니다', 0.9996867775917053),\n",
              " ('재밌었어요', 0.9996863007545471),\n",
              " ('재밌었다', 0.9996772408485413),\n",
              " ('재밌는데', 0.9996734857559204)]"
            ]
          },
          "metadata": {},
          "execution_count": 28
        }
      ]
    },
    {
      "cell_type": "markdown",
      "source": [
        "# Glove"
      ],
      "metadata": {
        "id": "a2zlSasIeiHy"
      }
    },
    {
      "cell_type": "code",
      "source": [
        "import gensim.downloader as api\n",
        "import gensim\n",
        "model = api.load(\"glove-wiki-gigaword-50\")\n",
        "model\n",
        "model = gensim.models.KeyedVectors.load_word2vec_format('~/gensim-data/glove-wiki-gigaword-50/glove-wiki-gigaword-50.gz')\n",
        "print(model)"
      ],
      "metadata": {
        "colab": {
          "base_uri": "https://localhost:8080/"
        },
        "id": "y7x-A4e3eZ-G",
        "outputId": "9673b336-d5fe-4989-8182-7e6ecac75f68"
      },
      "execution_count": null,
      "outputs": [
        {
          "output_type": "stream",
          "name": "stdout",
          "text": [
            "[==================================================] 100.0% 66.0/66.0MB downloaded\n",
            "KeyedVectors<vector_size=50, 400000 keys>\n"
          ]
        }
      ]
    },
    {
      "cell_type": "code",
      "source": [
        "model.most_similar(\"queen\")"
      ],
      "metadata": {
        "colab": {
          "base_uri": "https://localhost:8080/"
        },
        "id": "_HpcNKRce9ef",
        "outputId": "1be0c3ea-e7a7-464f-e312-3d1077633f96"
      },
      "execution_count": null,
      "outputs": [
        {
          "output_type": "execute_result",
          "data": {
            "text/plain": [
              "[('princess', 0.8515166640281677),\n",
              " ('lady', 0.805060863494873),\n",
              " ('elizabeth', 0.787304162979126),\n",
              " ('king', 0.7839043140411377),\n",
              " ('prince', 0.7821861505508423),\n",
              " ('coronation', 0.769277811050415),\n",
              " ('consort', 0.7626097202301025),\n",
              " ('royal', 0.7442865371704102),\n",
              " ('crown', 0.7382649183273315),\n",
              " ('victoria', 0.7285771369934082)]"
            ]
          },
          "metadata": {},
          "execution_count": 38
        }
      ]
    },
    {
      "cell_type": "code",
      "source": [
        "model.most_similar(\"AI\")"
      ],
      "metadata": {
        "colab": {
          "base_uri": "https://localhost:8080/",
          "height": 342
        },
        "id": "gMFHTP5hfpqy",
        "outputId": "c8c62955-2972-4592-8ce6-0517db1e4485"
      },
      "execution_count": null,
      "outputs": [
        {
          "output_type": "error",
          "ename": "KeyError",
          "evalue": "ignored",
          "traceback": [
            "\u001b[0;31m---------------------------------------------------------------------------\u001b[0m",
            "\u001b[0;31mKeyError\u001b[0m                                  Traceback (most recent call last)",
            "\u001b[0;32m<ipython-input-39-53421ded9f11>\u001b[0m in \u001b[0;36m<cell line: 1>\u001b[0;34m()\u001b[0m\n\u001b[0;32m----> 1\u001b[0;31m \u001b[0mmodel\u001b[0m\u001b[0;34m.\u001b[0m\u001b[0mmost_similar\u001b[0m\u001b[0;34m(\u001b[0m\u001b[0;34m\"AI\"\u001b[0m\u001b[0;34m)\u001b[0m\u001b[0;34m\u001b[0m\u001b[0;34m\u001b[0m\u001b[0m\n\u001b[0m",
            "\u001b[0;32m/usr/local/lib/python3.9/dist-packages/gensim/models/keyedvectors.py\u001b[0m in \u001b[0;36mmost_similar\u001b[0;34m(self, positive, negative, topn, clip_start, clip_end, restrict_vocab, indexer)\u001b[0m\n\u001b[1;32m    839\u001b[0m \u001b[0;34m\u001b[0m\u001b[0m\n\u001b[1;32m    840\u001b[0m         \u001b[0;31m# compute the weighted average of all keys\u001b[0m\u001b[0;34m\u001b[0m\u001b[0;34m\u001b[0m\u001b[0m\n\u001b[0;32m--> 841\u001b[0;31m         \u001b[0mmean\u001b[0m \u001b[0;34m=\u001b[0m \u001b[0mself\u001b[0m\u001b[0;34m.\u001b[0m\u001b[0mget_mean_vector\u001b[0m\u001b[0;34m(\u001b[0m\u001b[0mkeys\u001b[0m\u001b[0;34m,\u001b[0m \u001b[0mweight\u001b[0m\u001b[0;34m,\u001b[0m \u001b[0mpre_normalize\u001b[0m\u001b[0;34m=\u001b[0m\u001b[0;32mTrue\u001b[0m\u001b[0;34m,\u001b[0m \u001b[0mpost_normalize\u001b[0m\u001b[0;34m=\u001b[0m\u001b[0;32mTrue\u001b[0m\u001b[0;34m,\u001b[0m \u001b[0mignore_missing\u001b[0m\u001b[0;34m=\u001b[0m\u001b[0;32mFalse\u001b[0m\u001b[0;34m)\u001b[0m\u001b[0;34m\u001b[0m\u001b[0;34m\u001b[0m\u001b[0m\n\u001b[0m\u001b[1;32m    842\u001b[0m         all_keys = [\n\u001b[1;32m    843\u001b[0m             \u001b[0mself\u001b[0m\u001b[0;34m.\u001b[0m\u001b[0mget_index\u001b[0m\u001b[0;34m(\u001b[0m\u001b[0mkey\u001b[0m\u001b[0;34m)\u001b[0m \u001b[0;32mfor\u001b[0m \u001b[0mkey\u001b[0m \u001b[0;32min\u001b[0m \u001b[0mkeys\u001b[0m \u001b[0;32mif\u001b[0m \u001b[0misinstance\u001b[0m\u001b[0;34m(\u001b[0m\u001b[0mkey\u001b[0m\u001b[0;34m,\u001b[0m \u001b[0m_KEY_TYPES\u001b[0m\u001b[0;34m)\u001b[0m \u001b[0;32mand\u001b[0m \u001b[0mself\u001b[0m\u001b[0;34m.\u001b[0m\u001b[0mhas_index_for\u001b[0m\u001b[0;34m(\u001b[0m\u001b[0mkey\u001b[0m\u001b[0;34m)\u001b[0m\u001b[0;34m\u001b[0m\u001b[0;34m\u001b[0m\u001b[0m\n",
            "\u001b[0;32m/usr/local/lib/python3.9/dist-packages/gensim/models/keyedvectors.py\u001b[0m in \u001b[0;36mget_mean_vector\u001b[0;34m(self, keys, weights, pre_normalize, post_normalize, ignore_missing)\u001b[0m\n\u001b[1;32m    516\u001b[0m                 \u001b[0mtotal_weight\u001b[0m \u001b[0;34m+=\u001b[0m \u001b[0mabs\u001b[0m\u001b[0;34m(\u001b[0m\u001b[0mweights\u001b[0m\u001b[0;34m[\u001b[0m\u001b[0midx\u001b[0m\u001b[0;34m]\u001b[0m\u001b[0;34m)\u001b[0m\u001b[0;34m\u001b[0m\u001b[0;34m\u001b[0m\u001b[0m\n\u001b[1;32m    517\u001b[0m             \u001b[0;32melif\u001b[0m \u001b[0;32mnot\u001b[0m \u001b[0mignore_missing\u001b[0m\u001b[0;34m:\u001b[0m\u001b[0;34m\u001b[0m\u001b[0;34m\u001b[0m\u001b[0m\n\u001b[0;32m--> 518\u001b[0;31m                 \u001b[0;32mraise\u001b[0m \u001b[0mKeyError\u001b[0m\u001b[0;34m(\u001b[0m\u001b[0;34mf\"Key '{key}' not present in vocabulary\"\u001b[0m\u001b[0;34m)\u001b[0m\u001b[0;34m\u001b[0m\u001b[0;34m\u001b[0m\u001b[0m\n\u001b[0m\u001b[1;32m    519\u001b[0m \u001b[0;34m\u001b[0m\u001b[0m\n\u001b[1;32m    520\u001b[0m         \u001b[0;32mif\u001b[0m \u001b[0mtotal_weight\u001b[0m \u001b[0;34m>\u001b[0m \u001b[0;36m0\u001b[0m\u001b[0;34m:\u001b[0m\u001b[0;34m\u001b[0m\u001b[0;34m\u001b[0m\u001b[0m\n",
            "\u001b[0;31mKeyError\u001b[0m: \"Key 'AI' not present in vocabulary\""
          ]
        }
      ]
    }
  ]
}